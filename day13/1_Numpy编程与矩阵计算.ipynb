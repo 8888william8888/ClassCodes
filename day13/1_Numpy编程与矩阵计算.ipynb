{
 "cells": [
  {
   "cell_type": "markdown",
   "metadata": {},
   "source": [
    "# 传统数据结构的运算\n",
    "\n",
    "- Python先天内置比较多的数据结构：\n",
    "    - 元组（tuple）\n",
    "    - 列表（list）\n",
    "    - 字典（dict）\n",
    "    - 集合（set）\n",
    "    - 不变集合（frozenset）\n",
    "    \n",
    "- Python还提供了两个数据类型（也是数据结构）\n",
    "    - complex\n",
    "    - range\n",
    "    \n",
    "- 争对这些数据结构，还提供了一些全局函数，用来处理这些数据\n",
    "    - 基本计算：abs，divmod，min，max，any，all，pow，round\n",
    "    - 排序：sorted，reversed\n",
    "    - 容器遍历有关：enumerate，iter，next，len，\n",
    "    - 容器操作：filter，map，zip"
   ]
  },
  {
   "cell_type": "markdown",
   "metadata": {},
   "source": [
    "## comple类型\n",
    "\n",
    "- 与int，float，bool，str等一样，用来表示一种数据类型：复数类型\n",
    "\n",
    "- 复数的字面值表示：\n",
    "    - 实部 + 虚部\n",
    "    - 虚部表示：J或者j后缀。\n",
    "    - 例子：`2 + 4j`，`2.5 - 7.8J`"
   ]
  },
  {
   "cell_type": "markdown",
   "metadata": {},
   "source": [
    "### 通用运算"
   ]
  },
  {
   "cell_type": "code",
   "execution_count": 88,
   "metadata": {},
   "outputs": [
    {
     "name": "stdout",
     "output_type": "stream",
     "text": [
      "(6.5+10.7j)\n",
      "(0.5+3.7j)\n",
      "(-14.7+33.85j)\n",
      "(1.68+0.4399999999999999j)\n",
      "(-3.608319137330337-9.583259554669224j)\n",
      "False\n",
      "True\n",
      "(3.5+7.2j)\n",
      "(-3-3.5j)\n",
      "逻辑判定\n",
      "(3.5-7.2j)\n"
     ]
    }
   ],
   "source": [
    "cp1 = 3.5 + 7.2J\n",
    "cp2 = 3 + 3.5j\n",
    "\n",
    "print(cp1 + cp2)\n",
    "print(cp1 - cp2)\n",
    "print(cp1 * cp2)\n",
    "print(cp1 / cp2)\n",
    "# print(cp1 // cp2)  # 不支持\n",
    "print(cp1 ** cp2)\n",
    "\n",
    "# print(cp1 < cp2)    # 不支持\n",
    "# print(cp1 <= cp2)\n",
    "print(cp1 == cp2)\n",
    "print(cp1 != cp2)\n",
    "# print(cp1 > cp2)\n",
    "# print(cp1 >= cp2)\n",
    "\n",
    "print(+ cp1 )\n",
    "print(- cp2)\n",
    "\n",
    "# print(cp1 >> 2)\n",
    "# print(cp1 << 2)\n",
    "\n",
    "if cp1:\n",
    "    print('逻辑判定')\n",
    "    \n",
    "print(cp1.conjugate())   # 共轭复数"
   ]
  },
  {
   "cell_type": "markdown",
   "metadata": {},
   "source": [
    "## range类型"
   ]
  },
  {
   "cell_type": "code",
   "execution_count": 89,
   "metadata": {},
   "outputs": [
    {
     "name": "stdout",
     "output_type": "stream",
     "text": [
      "0\n",
      "3\n"
     ]
    }
   ],
   "source": [
    "rg = range(0, 10, 2)\n",
    "print(rg.count(1))\n",
    "print(rg.index(6))"
   ]
  },
  {
   "cell_type": "markdown",
   "metadata": {},
   "source": [
    "## 枚举\n",
    "\n",
    "- enumerate 类型，用于枚举容器元素, 与迭代器的最大区别，是指定开始位置，并返回每个元素的索引位置。\n",
    "    - 构造器： `enumerate(iterable[, start]) -> iterator`  返回迭代器\n",
    "    - 运算：\n",
    "        - `__iter__(self, /)`\n",
    "        - `__iter__(self, /)`\n"
   ]
  },
  {
   "cell_type": "code",
   "execution_count": 90,
   "metadata": {},
   "outputs": [
    {
     "name": "stdout",
     "output_type": "stream",
     "text": [
      "1 : 2\n",
      "2 : 3\n",
      "3 : 4\n",
      "4 : 5\n",
      "5 : 6\n"
     ]
    }
   ],
   "source": [
    "lt = [1,2,3,4,5]\n",
    "\n",
    "en = enumerate(lt, 2)\n",
    "for val , idx in en:    # 索引在后面，值在前面\n",
    "    print(idx, ':',  val)\n",
    "\n",
    "    \n"
   ]
  },
  {
   "cell_type": "markdown",
   "metadata": {},
   "source": [
    "## filter函数\n",
    "\n",
    "- filter本质也是一个类型：可迭代类型。用来对数据进行过滤，产生新的数据迭代。"
   ]
  },
  {
   "cell_type": "code",
   "execution_count": 91,
   "metadata": {},
   "outputs": [
    {
     "name": "stdout",
     "output_type": "stream",
     "text": [
      "[2, 4, 0]\n",
      "[1, 2, 3, 4, 5]\n"
     ]
    }
   ],
   "source": [
    "lt = [1,2,3,4,5,0]\n",
    "\n",
    "ft = filter (lambda x : True if x % 2 ==0 else False, lt)\n",
    "print(list(ft))\n",
    "\n",
    "ft = filter (None, lt)   # 第一个参数可以为None，None就表示值为False被过滤\n",
    "print(list(ft))"
   ]
  },
  {
   "cell_type": "markdown",
   "metadata": {},
   "source": [
    "## map函数\n",
    "\n",
    "- map函数也是一个特殊的可迭代类型，用于把多个可迭代容器，合并成一个可迭代容器。"
   ]
  },
  {
   "cell_type": "code",
   "execution_count": 92,
   "metadata": {},
   "outputs": [
    {
     "name": "stdout",
     "output_type": "stream",
     "text": [
      "[2.2, 4.5, 9.5, 14]\n"
     ]
    }
   ],
   "source": [
    "lt1 = [1,2,3,4,5,0]\n",
    "lt2 = [1.2, 2.5, 6.5, 10]\n",
    "\n",
    "def map_fun(*d):\n",
    "    #  print(*d)\n",
    "    sum = 0\n",
    "    for i in d:\n",
    "        sum += i\n",
    "    return sum\n",
    "\n",
    "mp = map(map_fun,  lt1, lt2)    # 第一个参数不能为None\n",
    "print(list(mp))"
   ]
  },
  {
   "cell_type": "markdown",
   "metadata": {},
   "source": [
    "## zip函数\n",
    "\n",
    "- zip与map类型差不多，只是map提供一个函数计算，zip是直接把多个可迭代类型，合并成一个元组。"
   ]
  },
  {
   "cell_type": "code",
   "execution_count": 93,
   "metadata": {},
   "outputs": [
    {
     "name": "stdout",
     "output_type": "stream",
     "text": [
      "[(1, 1.2), (2, 2.5), (3, 6.5), (4, 10)]\n"
     ]
    }
   ],
   "source": [
    "lt1 = [1,2,3,4,5,0]\n",
    "lt2 = [1.2, 2.5, 6.5, 10]\n",
    "\n",
    "zp = zip(lt1, lt2)    # 第一个参数不能为None\n",
    "print(list(zp))"
   ]
  },
  {
   "cell_type": "markdown",
   "metadata": {},
   "source": [
    "# 数学计算\n",
    "\n",
    "- Python有一个基因就是计算语言（与R语言，Matlab并称三大计算语言），在标准库中也提供丰富的数学计算与数据处理。"
   ]
  },
  {
   "cell_type": "markdown",
   "metadata": {},
   "source": [
    "## numbers模块\n",
    "\n",
    "- 定义一组抽象类，提供给用户来扩展运算符与其他功能。\n",
    "    - 扩展实现自己的数值类型，麻烦点，这里不演示。\n",
    "\n",
    "- 内置的类型也遵循这个规范\n",
    "    - 复数：\n",
    "        - real\n",
    "        - imag\n",
    "        - conjugate()\n",
    "    - 实数：\n",
    "        - 提供实数相关的运算，比如除法\n",
    "    - 有理数：\n",
    "        - numerator   ：分子\n",
    "        - denominator ：分母\n",
    "    - 整数：\n",
    "        - 提供整数运算：比如位运算。\n",
    "    "
   ]
  },
  {
   "cell_type": "code",
   "execution_count": 94,
   "metadata": {},
   "outputs": [
    {
     "ename": "NameError",
     "evalue": "name 'numbers' is not defined",
     "output_type": "error",
     "traceback": [
      "\u001b[0;31m---------------------------------------------------------------------------\u001b[0m",
      "\u001b[0;31mNameError\u001b[0m                                 Traceback (most recent call last)",
      "\u001b[0;32m<ipython-input-94-56a7583b312d>\u001b[0m in \u001b[0;36m<module>\u001b[0;34m()\u001b[0m\n\u001b[1;32m      1\u001b[0m \u001b[0ma\u001b[0m \u001b[0;34m=\u001b[0m \u001b[0;36m20\u001b[0m    \u001b[0;31m# 请变换各种类型，观察下面的运算结果\u001b[0m\u001b[0;34m\u001b[0m\u001b[0m\n\u001b[0;32m----> 2\u001b[0;31m \u001b[0;32mif\u001b[0m \u001b[0misinstance\u001b[0m\u001b[0;34m(\u001b[0m\u001b[0ma\u001b[0m\u001b[0;34m,\u001b[0m  \u001b[0mnumbers\u001b[0m\u001b[0;34m.\u001b[0m\u001b[0mNumber\u001b[0m\u001b[0;34m)\u001b[0m\u001b[0;34m:\u001b[0m\u001b[0;34m\u001b[0m\u001b[0m\n\u001b[0m\u001b[1;32m      3\u001b[0m     \u001b[0mprint\u001b[0m\u001b[0;34m(\u001b[0m\u001b[0;34m'数值类型'\u001b[0m\u001b[0;34m)\u001b[0m\u001b[0;34m\u001b[0m\u001b[0m\n\u001b[1;32m      4\u001b[0m \u001b[0;34m\u001b[0m\u001b[0m\n\u001b[1;32m      5\u001b[0m \u001b[0;32mif\u001b[0m \u001b[0misinstance\u001b[0m\u001b[0;34m(\u001b[0m\u001b[0ma\u001b[0m\u001b[0;34m,\u001b[0m  \u001b[0mnumbers\u001b[0m\u001b[0;34m.\u001b[0m\u001b[0mComplex\u001b[0m\u001b[0;34m)\u001b[0m\u001b[0;34m:\u001b[0m\u001b[0;34m\u001b[0m\u001b[0m\n",
      "\u001b[0;31mNameError\u001b[0m: name 'numbers' is not defined"
     ]
    }
   ],
   "source": [
    "a = 20    # 请变换各种类型，观察下面的运算结果\n",
    "if isinstance(a,  numbers.Number):\n",
    "    print('数值类型')\n",
    "    \n",
    "if isinstance(a,  numbers.Complex):\n",
    "    print('复数类型')\n",
    "    print(a.real, a.imag)\n",
    "\n",
    "if isinstance(a,  numbers.Real):\n",
    "    print('实数类型')\n",
    "    print(a // 2.0)\n",
    "\n",
    "if isinstance(a,  numbers.Rational):\n",
    "    print('有理数类型')\n",
    "    print(a.numerator, a.denominator)\n",
    "    \n",
    "if isinstance(a,  numbers.Integral):\n",
    "    print('自然数类型')\n",
    "    print(a >> 1)"
   ]
  },
  {
   "cell_type": "markdown",
   "metadata": {},
   "source": [
    "## decimal模块\n",
    "\n",
    "- decimal模块提供精度更高的计算，这个对某些精度有要求的算法是需要的，尽管我们可能在大部分情况下没有这个需求。\n",
    "    - 提供数值不动点与浮点运算\n",
    "    - 提供数值计算的上下文。"
   ]
  },
  {
   "cell_type": "markdown",
   "metadata": {},
   "source": [
    "###  数值计算上下文\n",
    "\n",
    "- decimal.getcontext()\n",
    "    - 获取激活线程的当前上下文。\n",
    "\n",
    "- decimal.setcontext(c)\n",
    "    - 设置当前线程的上下文。\n",
    "\n",
    "- decimal.localcontext(ctx=None)\n",
    "    - 设置当前线程的上下文管理器（`__enter__与__exit__`），并返回原来的上下文管理器。如果ctx=None，则不设置当前上下文，并返回当前下文管理。\n",
    "        - `__enter__`返回Context对象\n",
    "        - `__exit__`回复原来上下文。\n",
    "    - 上下文管理的好处，就是临时使用某个上下文，使用完毕就恢复成原来的上下文。\n",
    "    "
   ]
  },
  {
   "cell_type": "code",
   "execution_count": 95,
   "metadata": {},
   "outputs": [
    {
     "name": "stdout",
     "output_type": "stream",
     "text": [
      "<decimal.ContextManager object at 0x11e245870>\n",
      "Context(prec=28, rounding=ROUND_HALF_EVEN, Emin=-999999, Emax=999999, capitals=1, clamp=0, flags=[], traps=[InvalidOperation, DivisionByZero, Overflow])\n"
     ]
    }
   ],
   "source": [
    "import decimal\n",
    "\n",
    "ctx = decimal.localcontext()\n",
    "print(ctx)\n",
    "ctx = decimal.getcontext()\n",
    "print(ctx)"
   ]
  },
  {
   "cell_type": "markdown",
   "metadata": {},
   "source": [
    "### 理解上下文类Context\n",
    "\n",
    "- flags与traps用来设置Signals.如果新的Context，一般设置traps，不设置flags。flags用来设置记录遇见的Signal条件,每次计算完通过检查flags来确定哪些条件发生，一般在计算完成后都清除掉，这样下次计算的记录才会准确。\n",
    "    - class decimal.DecimalException ：下面几个类的父类\n",
    "    - class decimal.Clamped：科学记数法的e指数计算公式是否去除精度\n",
    "    - class decimal.DivisionByZero：被0除\n",
    "    - class decimal.Inexact：是否四舍五入\n",
    "    - class decimal.InvalidOperation：非法操作：对无穷进行计算\n",
    "    - class decimal.Overflow\n",
    "    - class decimal.Rounded\n",
    "    - class decimal.Subnormal\n",
    "    - class decimal.Underflow\n",
    "    - class decimal.FloatOperation"
   ]
  },
  {
   "cell_type": "markdown",
   "metadata": {},
   "source": [
    "- rounding指定四舍五入方式\n",
    "    - decimal.ROUND_CEILING\n",
    "        - Round towards Infinity.\n",
    "\n",
    "    - decimal.ROUND_DOWN\n",
    "        - Round towards zero.\n",
    "\n",
    "    - decimal.ROUND_FLOOR\n",
    "        - Round towards -Infinity.\n",
    "\n",
    "    - decimal.ROUND_HALF_DOWN\n",
    "        - Round to nearest with ties going towards zero.\n",
    "\n",
    "    - decimal.ROUND_HALF_EVEN\n",
    "        - Round to nearest with ties going to nearest even integer.\n",
    "\n",
    "    - decimal.ROUND_HALF_UP\n",
    "        - Round to nearest with ties going away from zero.\n",
    "\n",
    "    - decimal.ROUND_UP\n",
    "        - Round away from zero.\n",
    "\n",
    "    - decimal.ROUND_05UP\n",
    "        - Round away from zero if last digit after rounding towards zero would have been 0 or 5; otherwise round towards zero.\n",
    "\n"
   ]
  },
  {
   "cell_type": "markdown",
   "metadata": {},
   "source": [
    "- 常量设置\n",
    "\n",
    "\n",
    "常量|32-bit|64-bit|说明\n",
    "-|-|-|-\n",
    "decimal.MAX_PREC|425000000|999999999999999999|最大精度: \\[1, MAX_PREC\\]\n",
    "decimal.MAX_EMAX|425000000|999999999999999999|指数的最大值：\\[0, MAX_EMAX\\]\n",
    "decimal.MIN_EMIN|-425000000|-999999999999999999|指数最小值：\\[MIN_EMIN, 0\\]\n",
    "decimal.MIN_ETINY|-849999999|-1999999999999999997|等于MIN_EMIN - MAX_PREC + 1，就是Etiny函数返回的最小值。"
   ]
  },
  {
   "cell_type": "code",
   "execution_count": 96,
   "metadata": {
    "scrolled": false
   },
   "outputs": [
    {
     "name": "stdout",
     "output_type": "stream",
     "text": [
      "{<class 'decimal.InvalidOperation'>:False, <class 'decimal.FloatOperation'>:False, <class 'decimal.DivisionByZero'>:False, <class 'decimal.Overflow'>:False, <class 'decimal.Underflow'>:False, <class 'decimal.Subnormal'>:False, <class 'decimal.Inexact'>:False, <class 'decimal.Rounded'>:False, <class 'decimal.Clamped'>:False}\n",
      "{<class 'decimal.InvalidOperation'>:True, <class 'decimal.FloatOperation'>:False, <class 'decimal.DivisionByZero'>:True, <class 'decimal.Overflow'>:True, <class 'decimal.Underflow'>:False, <class 'decimal.Subnormal'>:False, <class 'decimal.Inexact'>:False, <class 'decimal.Rounded'>:False, <class 'decimal.Clamped'>:False}\n",
      "1\n",
      "0\n",
      "999999\n",
      "-999999\n",
      "28\n",
      "ROUND_HALF_EVEN\n"
     ]
    }
   ],
   "source": [
    "import decimal\n",
    "ctx = decimal.getcontext()\n",
    "print(ctx.flags)\n",
    "print(ctx.traps)    # 陷阱\n",
    "print(ctx.capitals)   # 科学记数法的e是否大小写\n",
    "print(ctx.clamp)    # 科学记数法的指数精度表示：Emin - prec + 1 <= e <= Emax - prec + 1\n",
    "print(ctx.Emax)\n",
    "print(ctx.Emin)\n",
    "print(ctx.prec)\n",
    "print(ctx.rounding)\n"
   ]
  },
  {
   "cell_type": "markdown",
   "metadata": {},
   "source": [
    "### 理解上下文管理器"
   ]
  },
  {
   "cell_type": "code",
   "execution_count": 97,
   "metadata": {},
   "outputs": [
    {
     "name": "stdout",
     "output_type": "stream",
     "text": [
      "{<class 'decimal.InvalidOperation'>:False, <class 'decimal.FloatOperation'>:False, <class 'decimal.DivisionByZero'>:False, <class 'decimal.Overflow'>:False, <class 'decimal.Underflow'>:False, <class 'decimal.Subnormal'>:False, <class 'decimal.Inexact'>:False, <class 'decimal.Rounded'>:False, <class 'decimal.Clamped'>:False}\n",
      "{<class 'decimal.InvalidOperation'>:True, <class 'decimal.FloatOperation'>:False, <class 'decimal.DivisionByZero'>:True, <class 'decimal.Overflow'>:True, <class 'decimal.Underflow'>:False, <class 'decimal.Subnormal'>:False, <class 'decimal.Inexact'>:False, <class 'decimal.Rounded'>:False, <class 'decimal.Clamped'>:False}\n",
      "1\n",
      "0\n",
      "999999\n",
      "-999999\n",
      "28\n",
      "ROUND_HALF_EVEN\n"
     ]
    }
   ],
   "source": [
    "with decimal.localcontext() as ctx:\n",
    "    print(ctx.flags)\n",
    "    print(ctx.traps)    # 陷阱\n",
    "    print(ctx.capitals)   # 科学记数法的e是否大小写\n",
    "    print(ctx.clamp)    # 科学记数法的指数精度表示：Emin - prec + 1 <= e <= Emax - prec + 1\n",
    "    print(ctx.Emax)\n",
    "    print(ctx.Emin)\n",
    "    print(ctx.prec)\n",
    "    print(ctx.rounding)"
   ]
  },
  {
   "cell_type": "markdown",
   "metadata": {},
   "source": [
    "### 使用上下文"
   ]
  },
  {
   "cell_type": "code",
   "execution_count": 98,
   "metadata": {},
   "outputs": [
    {
     "name": "stdout",
     "output_type": "stream",
     "text": [
      "12.12\n",
      "1.212E+6\n"
     ]
    }
   ],
   "source": [
    "import decimal\n",
    "ctx = decimal.Context(\n",
    "    prec=4, \n",
    "    rounding=decimal.ROUND_HALF_EVEN, \n",
    "    Emin=None, \n",
    "    Emax=None, \n",
    "    capitals=0,      # 这个参数设置没有什么效果，大小写都可以使用\n",
    "    clamp=None, \n",
    "    flags=None, \n",
    "    traps=None)\n",
    "\n",
    "print(ctx.create_decimal('12.1234567890987654321'))\n",
    "print(ctx.create_decimal('12.1231e5'))"
   ]
  },
  {
   "cell_type": "code",
   "execution_count": 99,
   "metadata": {},
   "outputs": [
    {
     "name": "stdout",
     "output_type": "stream",
     "text": [
      "24.246913578197532\n",
      "24.246913578197530864\n"
     ]
    }
   ],
   "source": [
    "import decimal\n",
    "f1 = 12.1234567890987654321\n",
    "f2 = 12.1234567890987654321\n",
    "print(f1 + f2)\n",
    "\n",
    "\n",
    "ctx = decimal.getcontext()\n",
    "ctx.prec = 20   # 改变这个数值看看上下文的影响\n",
    "\n",
    "d1 = decimal.Decimal('12.1234567890987654321')\n",
    "d2 = decimal.Decimal('12.1234567890987654321')\n",
    "print(d1 + d2)\n"
   ]
  },
  {
   "cell_type": "markdown",
   "metadata": {},
   "source": [
    "### 使用上下文管理器"
   ]
  },
  {
   "cell_type": "code",
   "execution_count": 100,
   "metadata": {},
   "outputs": [
    {
     "name": "stdout",
     "output_type": "stream",
     "text": [
      "24.246913578197532\n",
      "外部计算 24.246913578197530864\n",
      "内部计算 24.25\n",
      "外部计算 24.246913578197530864\n"
     ]
    }
   ],
   "source": [
    "import decimal\n",
    "f1 = 12.1234567890987654321\n",
    "f2 = 12.1234567890987654321\n",
    "print(f1 + f2)\n",
    "\n",
    "\n",
    "ctx = decimal.getcontext()\n",
    "ctx.prec = 20   # 改变这个数值看看上下文的影响\n",
    "\n",
    "d1 = decimal.Decimal('12.1234567890987654321')\n",
    "d2 = decimal.Decimal('12.1234567890987654321')\n",
    "\n",
    "print('外部计算', d1 + d2)\n",
    "\n",
    "with decimal.localcontext() as tx:\n",
    "    tx.prec = 4\n",
    "    print('内部计算', d1 + d2)\n",
    "\n",
    "\n",
    "print('外部计算', d1 + d2)"
   ]
  },
  {
   "cell_type": "markdown",
   "metadata": {},
   "source": [
    "## fractions模块\n",
    "\n",
    "- Fraction类：\n",
    "    - 提供有理数管理\n",
    "        - class fractions.Fraction(numerator=0, denominator=1)\n",
    "        - class fractions.Fraction(other_fraction)\n",
    "        - class fractions.Fraction(float)\n",
    "        - class fractions.Fraction(decimal)\n",
    "        - class fractions.Fraction(string)\n",
    "    - 可以获取分子分母\n",
    "        - numerator\n",
    "        - denominator\n",
    "- 返回最大公约数\n",
    "    - fractions.gcd(a, b)  # 这个函数已经在math中实现，这里已经不推荐使用。"
   ]
  },
  {
   "cell_type": "code",
   "execution_count": 101,
   "metadata": {},
   "outputs": [
    {
     "name": "stdout",
     "output_type": "stream",
     "text": [
      "11\n",
      "3 4\n"
     ]
    }
   ],
   "source": [
    "import fractions\n",
    "import math\n",
    "\n",
    "# print(fractions.gcd(111,22))   # 推荐使用了\n",
    "print(math.gcd(1111,22))\n",
    "\n",
    "fr = fractions.Fraction(0.75)\n",
    "print(fr.numerator, fr.denominator)\n"
   ]
  },
  {
   "cell_type": "markdown",
   "metadata": {},
   "source": [
    "## math模块"
   ]
  },
  {
   "cell_type": "markdown",
   "metadata": {},
   "source": [
    "### 数学常量\n",
    "\n",
    "- math.pi\n",
    "- math.e\n",
    "- math.tau ： $2 * \\pi  = \\tau $ \n",
    "- math.inf\n",
    "- math.nan\n"
   ]
  },
  {
   "cell_type": "markdown",
   "metadata": {},
   "source": [
    "### 数值基本表示计算"
   ]
  },
  {
   "cell_type": "code",
   "execution_count": 102,
   "metadata": {},
   "outputs": [
    {
     "name": "stdout",
     "output_type": "stream",
     "text": [
      "(0.625, 4)\n",
      "(0.25, 10.0)\n",
      "10\n"
     ]
    }
   ],
   "source": [
    "import math\n",
    "\n",
    "r = math.frexp(10)   # 浮点数的内部表示，用于解决不同平台之间浮点数表示的差异的问题\n",
    "print(r)\n",
    "\n",
    "print(math.modf(10.25))\n",
    "print(math.trunc(10.25))   # 阶段"
   ]
  },
  {
   "cell_type": "markdown",
   "metadata": {},
   "source": [
    "### 指数与对数运算"
   ]
  },
  {
   "cell_type": "code",
   "execution_count": 103,
   "metadata": {},
   "outputs": [
    {
     "name": "stdout",
     "output_type": "stream",
     "text": [
      "3.321928094887362\n"
     ]
    }
   ],
   "source": [
    "import math\n",
    "\n",
    "print(math.log2(10))"
   ]
  },
  {
   "cell_type": "markdown",
   "metadata": {},
   "source": [
    "### 三角函数"
   ]
  },
  {
   "cell_type": "code",
   "execution_count": 104,
   "metadata": {},
   "outputs": [
    {
     "name": "stdout",
     "output_type": "stream",
     "text": [
      "5.0\n"
     ]
    }
   ],
   "source": [
    "import math\n",
    "\n",
    "print(math.hypot(4, 3))   # 欧式距离，坐标到远点的距离"
   ]
  },
  {
   "cell_type": "markdown",
   "metadata": {},
   "source": [
    "###  双曲函数\n",
    "\n",
    "\n",
    "- $sinh(x) = \\dfrac{e^x - e^{-x}}{2} $\n",
    "\n",
    "\n",
    "- $cosh(x) = \\dfrac{e^x + e^{-x}}{2}$\n",
    "\n",
    "\n",
    "- $tanh(x) = \\dfrac{sinh(x)}{cosh(x)}$\n",
    "\n",
    "\n",
    "- $coth(x) = \\dfrac{1}{tanh(x)}$\n",
    "\n",
    "\n",
    "- $asin(x) = ln(x + \\sqrt{(x^2 +1)} )$  是sinh的反（可逆）函数。"
   ]
  },
  {
   "cell_type": "code",
   "execution_count": 105,
   "metadata": {},
   "outputs": [
    {
     "name": "stdout",
     "output_type": "stream",
     "text": [
      "2.6456319338372323\n"
     ]
    }
   ],
   "source": [
    "import math\n",
    "\n",
    "print(math.sinh(1.7))"
   ]
  },
  {
   "cell_type": "markdown",
   "metadata": {},
   "source": [
    "### 角度与弧度转换"
   ]
  },
  {
   "cell_type": "code",
   "execution_count": 106,
   "metadata": {},
   "outputs": [
    {
     "name": "stdout",
     "output_type": "stream",
     "text": [
      "180.0\n"
     ]
    }
   ],
   "source": [
    "import math\n",
    "\n",
    "print(math.degrees(math.pi))"
   ]
  },
  {
   "cell_type": "markdown",
   "metadata": {},
   "source": [
    "### 特殊数学计算\n",
    "\n",
    "- 误差函数：就是高斯函数的不定积分\n",
    "\n",
    "    - 高斯函数： $f(x) = \\dfrac{1}{\\sigma \\sqrt{2 \\pi}}\\exp ^{\\frac{1}{2} {(\\frac{x- \\mu}{\\sigma})}^2} $\n",
    "    \n",
    "    - 标准高斯函数：$f(x) = \\dfrac{1}{\\sqrt{2 \\pi}}\\exp ^{\\frac{x^2}{2}} $ \n",
    "    \n"
   ]
  },
  {
   "cell_type": "markdown",
   "metadata": {},
   "source": [
    "- 误差函数：\n",
    "    - $f(x) = \\dfrac{1}{\\sqrt{2 \\pi}} \\int_{-x} ^x {\\exp ^{\\dfrac{t^2}{2}}} dt$ "
   ]
  },
  {
   "cell_type": "code",
   "execution_count": 107,
   "metadata": {},
   "outputs": [
    {
     "name": "stdout",
     "output_type": "stream",
     "text": [
      "0.5204998778130465\n"
     ]
    }
   ],
   "source": [
    "import math\n",
    "\n",
    "print(math.erf(0.5))"
   ]
  },
  {
   "cell_type": "markdown",
   "metadata": {},
   "source": [
    "## random模块"
   ]
  },
  {
   "cell_type": "markdown",
   "metadata": {},
   "source": [
    "### seed随机种\n",
    "\n",
    "- random.seed(a=None, version=2)\n",
    "    - a=None：一般使用当前时间"
   ]
  },
  {
   "cell_type": "code",
   "execution_count": 108,
   "metadata": {},
   "outputs": [
    {
     "name": "stdout",
     "output_type": "stream",
     "text": [
      "None\n"
     ]
    }
   ],
   "source": [
    "import random\n",
    "print(random.seed())\n",
    "\n",
    "# print(random.getstate())"
   ]
  },
  {
   "cell_type": "markdown",
   "metadata": {},
   "source": [
    "### 随机整数\n",
    "\n",
    "- random.randrange(stop)\n",
    "- random.randrange(start, stop\\[, step\\])\n",
    "    - 从`range(start, stop, step)`种随机挑选一个\n",
    "- random.randint(a, b)"
   ]
  },
  {
   "cell_type": "code",
   "execution_count": 109,
   "metadata": {},
   "outputs": [
    {
     "name": "stdout",
     "output_type": "stream",
     "text": [
      "0\n",
      "4\n",
      "10\n"
     ]
    }
   ],
   "source": [
    "import random\n",
    "print(random.randrange(10))\n",
    "print(random.randrange(0, 10, 1))\n",
    "print(random.randint(1, 10))"
   ]
  },
  {
   "cell_type": "markdown",
   "metadata": {},
   "source": [
    "### 基于随机分布的随机小数\n",
    "- random.random()\n",
    "- random.uniform(a, b)\n",
    "- random.triangular(low, high, mode)\n",
    "- random.betavariate(alpha, beta)\n",
    "- random.expovariate(lambd)\n",
    "- random.gammavariate(alpha, beta)\n",
    "- random.gauss(mu, sigma)\n",
    "- random.lognormvariate(mu, sigma)\n",
    "- random.normalvariate(mu, sigma)\n",
    "- random.vonmisesvariate(mu, kappa)\n",
    "- random.paretovariate(alpha)\n",
    "- random.weibullvariate(alpha, beta)"
   ]
  },
  {
   "cell_type": "code",
   "execution_count": 110,
   "metadata": {},
   "outputs": [
    {
     "name": "stdout",
     "output_type": "stream",
     "text": [
      "0.4105116468739579\n",
      "0.0034572920379813965\n"
     ]
    }
   ],
   "source": [
    "import math\n",
    "\n",
    "random.seed()\n",
    "print(random.random())\n",
    "print(random.uniform(0, 1))"
   ]
  },
  {
   "cell_type": "markdown",
   "metadata": {},
   "source": [
    "### 随机序列\n",
    "- random.choice(seq)\n",
    "- random.choices(population, weights=None, *, cum_weights=None, k=1)\n",
    "\n",
    "- random.shuffle(x\\[, random\\])\n",
    "- random.sample(population, k)"
   ]
  },
  {
   "cell_type": "code",
   "execution_count": 111,
   "metadata": {},
   "outputs": [
    {
     "name": "stdout",
     "output_type": "stream",
     "text": [
      "1\n",
      "[5, 2, 2, 1, 2, 4, 4, 5, 1, 6]\n"
     ]
    }
   ],
   "source": [
    "import math\n",
    "\n",
    "lst = [1,2,3,4,5,6]\n",
    "print(random.choice(lst))\n",
    "print(random.choices(lst, weights=[1, 1, 1, 1, 1, 1], k=10))  # 权重的长度必须匹配序列的长度，k可以是任意长"
   ]
  },
  {
   "cell_type": "markdown",
   "metadata": {},
   "source": [
    "### 系统随机数\n",
    "\n",
    "- class random.SystemRandom(\\[seed\\])"
   ]
  },
  {
   "cell_type": "code",
   "execution_count": 112,
   "metadata": {},
   "outputs": [
    {
     "name": "stdout",
     "output_type": "stream",
     "text": [
      "0\n"
     ]
    }
   ],
   "source": [
    "import math\n",
    "\"\"\"\n",
    "'betavariate', 'choice', 'choices', 'expovariate', 'gammavariate', 'gauss', 'gauss_next', 'getrandbits', 'getstate', 'lognormvariate', 'normalvariate', 'paretovariate', 'randint', 'random', 'randrange', 'sample', 'seed', 'setstate', 'shuffle', 'triangular', 'uniform', 'vonmisesvariate', 'weibullvariate']\n",
    "\"\"\"\n",
    "rs = random.SystemRandom()\n",
    "print(rs.randrange(10))"
   ]
  },
  {
   "cell_type": "markdown",
   "metadata": {},
   "source": [
    "## statistics模块"
   ]
  },
  {
   "cell_type": "markdown",
   "metadata": {},
   "source": [
    "### 均值与中值计算\n",
    "\n",
    "\n",
    "\n",
    "函数|函数功能\n",
    "-|-\n",
    "mean()\t|Arithmetic mean (“average”) of data.\n",
    "harmonic_mean()\t|调和均值.\n",
    "median()\t|Median (middle value) of data.\n",
    "median_low()\t|Low median of data.\n",
    "median_high()\t|High median of data.\n",
    "median_grouped()\t|Median, or 50th percentile, of grouped data.\n",
    "mode()\t|Mode (most common value) of discrete data.\n"
   ]
  },
  {
   "cell_type": "code",
   "execution_count": 113,
   "metadata": {},
   "outputs": [
    {
     "name": "stdout",
     "output_type": "stream",
     "text": [
      "[1, 2, 2, 3, 3, 5, 5, 5, 5, 6]\n",
      "3.7\n",
      "2.7522935779816513\n",
      "4.0\n",
      "3\n",
      "5\n",
      "5\n"
     ]
    }
   ],
   "source": [
    "import statistics\n",
    "lst = [2, 5, 6, 3, 5, 1, 2, 5, 3, 5]\n",
    "print(sorted(lst))\n",
    "print(statistics.mean(lst))\n",
    "print(statistics.harmonic_mean(lst))\n",
    "print(statistics.median(lst))    # 中间两个数的均值\n",
    "print(statistics.median_low(lst))\n",
    "print(statistics.median_high(lst))\n",
    "print(statistics.mode(lst))    # 出现次数最多的\n",
    "\n"
   ]
  },
  {
   "cell_type": "markdown",
   "metadata": {},
   "source": [
    "### 方差计算\n",
    "\n",
    "\n",
    "函数|函数功能\n",
    "-|-\n",
    "pstdev()\t|Population standard deviation of data.总体标准差\n",
    "pvariance()\t|Population variance of data.总体方差\n",
    "stdev()\t|Sample standard deviation of data.样本标准差\n",
    "variance()\t|Sample variance of data.样本方差"
   ]
  },
  {
   "cell_type": "code",
   "execution_count": 114,
   "metadata": {},
   "outputs": [
    {
     "name": "stdout",
     "output_type": "stream",
     "text": [
      "1.6155494421403511\n",
      "2.61\n",
      "1.6155494421403511\n",
      "2.9\n",
      "2.61\n"
     ]
    }
   ],
   "source": [
    "import statistics\n",
    "import math\n",
    "\n",
    "lst = [2, 5, 6, 3, 5, 1, 2, 5, 3, 5]\n",
    "\n",
    "print(statistics.pstdev(lst))\n",
    "print(statistics.pvariance(lst))\n",
    "print(statistics.stdev(lst)*math.sqrt((len(lst)-1)/len(lst)))   # 屏风跟\n",
    "print(statistics.variance(lst))\n",
    "print(statistics.variance(lst)*(len(lst)-1)/len(lst))     # = .pvariance(lst)"
   ]
  },
  {
   "cell_type": "markdown",
   "metadata": {},
   "source": [
    "# numpy数据结构与运算"
   ]
  },
  {
   "cell_type": "markdown",
   "metadata": {},
   "source": [
    "## 创建numpy数组"
   ]
  },
  {
   "cell_type": "markdown",
   "metadata": {},
   "source": [
    "### 使用构造器构造ndarray数组\n",
    "\n",
    "####  构造器定义：\n",
    "- `ndarray(shape, dtype=float, buffer=None, offset=0, strides=None, order=None)`\n",
    "    - shape：数组的形状\n",
    "    - dtype：数组元素的类型\n",
    "    - buffer：构造数组的缓冲\n",
    "    - offset：数组使用的数据在缓冲中的开始位置\n",
    "    - strides：选取元素的步长\n",
    "    - order：构造数组的方式（C方式，还是Fortran方式：就是行优先，还是列优先）与strides参数冲突。"
   ]
  },
  {
   "cell_type": "markdown",
   "metadata": {},
   "source": [
    "#### 使用缓冲构造数组\n",
    "\n",
    "- 其中order与strides冲突。指定strides后，order就不使用。\n",
    "- order指定'C'：行优先，'F'：列优先\n",
    "- strides的单位是字节，不是位。\n",
    "- buffer需要字节流"
   ]
  },
  {
   "cell_type": "code",
   "execution_count": 115,
   "metadata": {},
   "outputs": [
    {
     "name": "stdout",
     "output_type": "stream",
     "text": [
      "[[1 2 3]\n",
      " [3 4 5]\n",
      " [5 6 7]]\n",
      "[[1 4 7]\n",
      " [2 5 8]\n",
      " [3 6 9]]\n"
     ]
    }
   ],
   "source": [
    "import numpy as np\n",
    "\n",
    "lst = (1, 2, 3, 4, 5, 6, 7, 8, 9)\n",
    "bts = bytes(lst)\n",
    "\n",
    "na = np.ndarray(shape=(3, 3),  dtype=np.int8, buffer=bts, offset=0, strides=(2, 1) )\n",
    "print(na)\n",
    "na = np.ndarray(shape=(3, 3),  dtype=np.int8, buffer=bts, offset=0, order='F')\n",
    "print(na)"
   ]
  },
  {
   "cell_type": "markdown",
   "metadata": {},
   "source": [
    "#### 不使用缓冲构造数组\n",
    "- 不使用缓冲，只需要指定dtype与shape即可,构造的数组初始化值是不确定的。"
   ]
  },
  {
   "cell_type": "code",
   "execution_count": 116,
   "metadata": {},
   "outputs": [
    {
     "name": "stdout",
     "output_type": "stream",
     "text": [
      "[[2.3693561e-38 2.3694275e-38 2.3694278e-38]\n",
      " [2.3694278e-38 2.3694278e-38 2.3694278e-38]\n",
      " [2.3694278e-38 2.3694278e-38 9.2195630e-41]]\n"
     ]
    }
   ],
   "source": [
    "import numpy as np\n",
    "\n",
    "na = np.ndarray(shape=(3, 3), dtype=np.float32)\n",
    "print(na)"
   ]
  },
  {
   "cell_type": "markdown",
   "metadata": {},
   "source": [
    "### ndarray中可以指定的类型\n",
    "\n",
    "- ndarray指定的数据类型是numpy.dtype类型,构造器定义如下：\n",
    "    - `dtype(obj, align=False, copy=False)`\n",
    "    \n",
    "    - 其中obj可以使用复合数据（在后面会使用到）。\n",
    "    \n",
    "- 该类型有几个关键数据\n",
    "    -  byteorder\n",
    "    - itemsize\n",
    "    - name\n",
    "    - type\n",
    "    - str\n",
    "- 如果ndarray不指定dtype，缺省类型是：float_（就是float64）"
   ]
  },
  {
   "cell_type": "code",
   "execution_count": 117,
   "metadata": {},
   "outputs": [
    {
     "name": "stdout",
     "output_type": "stream",
     "text": [
      "dt.type: <class 'numpy.float64'>\n",
      "dt.byteorder: =\n",
      "dt.itemsize: 8\n",
      "dt.name: float64\n",
      "dt.str: <f8\n"
     ]
    }
   ],
   "source": [
    "import numpy as np\n",
    "\n",
    "na = np.ndarray(shape=(3, 3))\n",
    "dt = na.dtype\n",
    "print('dt.type:', dt.type)\n",
    "print('dt.byteorder:', dt.byteorder)\n",
    "print('dt.itemsize:', dt.itemsize)\n",
    "print('dt.name:', dt.name)\n",
    "print('dt.str:', dt.str)"
   ]
  },
  {
   "cell_type": "markdown",
   "metadata": {},
   "source": [
    "#### 使用numpy内置标量类型构造dtype\n",
    "\n",
    "- numpy标准的内置内型：\n"
   ]
  },
  {
   "cell_type": "markdown",
   "metadata": {},
   "source": [
    "\n",
    "1. bool类型\n",
    "\n",
    "Type\t|Remarks\t|Character code\n",
    "-|-|-\n",
    "bool_\t|compatible: Python bool\t|'?'\n",
    "bool8\t|8 bits\t | \n",
    "\n"
   ]
  },
  {
   "cell_type": "markdown",
   "metadata": {},
   "source": [
    "2. 整数类型\n",
    "\n",
    "\n",
    "类型|说明|表示字符\n",
    "-|-|-\n",
    "byte\t|compatible: C char\t|'b'\n",
    "short\t|compatible: C short\t|'h'\n",
    "intc\t|compatible: C int\t|'i'\n",
    "int_\t|compatible: Python int\t|'l'\n",
    "longlong\t|compatible: C long long\t|'q'\n",
    "intp\t|large enough to fit a pointer\t|'p'\n",
    "int8\t|8 bits\t |\n",
    "int16\t|16 bits|\t \n",
    "int32\t|32 bits|\t \n",
    "int64\t|64 bits|\t \n"
   ]
  },
  {
   "cell_type": "markdown",
   "metadata": {},
   "source": [
    "3. 无符号整数类型\n",
    "\n",
    "类型|说明|表示字符\n",
    "-|-|-\n",
    "ubyte\t|compatible: C unsigned char\t|'B'\n",
    "ushort\t|compatible: C unsigned short\t|'H'\n",
    "uintc\t|compatible: C unsigned int\t|'I'\n",
    "uint\t|compatible: Python int\t|'L'\n",
    "ulonglong\tc|ompatible: C long long\t|'Q'\n",
    "uintp\t|large enough to fit a pointer\t|'P'\n",
    "uint8\t|8 bits\t| \n",
    "uint16\t|16 bits|\t \n",
    "uint32\t|32 bits|\t \n",
    "uint64\t|64 bits|\t "
   ]
  },
  {
   "cell_type": "markdown",
   "metadata": {},
   "source": [
    "4. 浮点类型\n",
    "\n",
    "类型|说明|表示字符\n",
    "-|-|-\n",
    "half|\t \t|'e'|\n",
    "single\t|compatible: C float\t|'f'\n",
    "double\t|compatible: C double\t \n",
    "float_\t|compatible: Python float\t|'d'\n",
    "longfloat\t|compatible: C long float\t|'g'\n",
    "float16\t|16 bits\t| \n",
    "float32\t|32 bits\t| \n",
    "float64\t|64 bits\t |\n",
    "float96\t|96 bits, platform?\t |\n",
    "float128\t|128 bits, platform?|"
   ]
  },
  {
   "cell_type": "markdown",
   "metadata": {},
   "source": [
    "5. 复数类型\n",
    "\n",
    "类型|说明|表示字符\n",
    "-|-|-\n",
    "csingle\t| \t|'F'\n",
    "complex_\t|compatible: Python complex\t'D'\n",
    "clongfloat\t| \t|'G'\n",
    "complex64\t|two 32-bit floats\t |\n",
    "complex128\t|two 64-bit floats\t |\n",
    "complex192\t|two 96-bit floats, platform?\t |\n",
    "complex256\t|two 128-bit floats, platform?\t |"
   ]
  },
  {
   "cell_type": "markdown",
   "metadata": {},
   "source": [
    "6. 对象类型\n",
    "\n",
    "\n",
    "类型|说明|表示字符\n",
    "-|-|-\n",
    "object_\t|any Python object\t|'O'\n"
   ]
  },
  {
   "cell_type": "markdown",
   "metadata": {},
   "source": [
    "7. 字符类型\n",
    "\n",
    "类型|说明|表示字符\n",
    "-|-|-\n",
    "bytes_\t|compatible: Python bytes\t|'S#'\n",
    "unicode_\t|compatible: Python unicode/str\t|'U#'\n",
    "void|\t \t|'V#'\n"
   ]
  },
  {
   "cell_type": "code",
   "execution_count": 118,
   "metadata": {},
   "outputs": [],
   "source": [
    "import numpy as np\n",
    "\n",
    "# 使用内置类型构造\n",
    "dt = np.dtype(np.float32)\n",
    "\n",
    "# 直接使用内置类型\n",
    "na = np.ndarray(shape=(3, 3), dtype=np.float32)"
   ]
  },
  {
   "cell_type": "markdown",
   "metadata": {},
   "source": [
    "#### 泛型类型的对应内置类型\n",
    "\n",
    "泛型类型|对应类型\n",
    "-|-\n",
    "number, inexact, floating\t|float\n",
    "complexfloating\t|cfloat\n",
    "integer, signedinteger\t|int_\n",
    "unsignedinteger\t|uint\n",
    "character\t|string\n",
    "generic, flexible\t|void\n"
   ]
  },
  {
   "cell_type": "code",
   "execution_count": 119,
   "metadata": {},
   "outputs": [],
   "source": [
    "import numpy as np\n",
    "\n",
    "# 使用内置类型构造\n",
    "dt = np.dtype(np.cfloat)"
   ]
  },
  {
   "cell_type": "markdown",
   "metadata": {},
   "source": [
    "#### python内置内型的对应类型\n",
    "\n",
    "python类型|对应类型\n",
    "-|-\n",
    "int\t|int_\n",
    "bool\t|bool_\n",
    "float\t|float_\n",
    "complex\t|cfloat\n",
    "bytes\t|bytes_\n",
    "str\t|bytes_ (Python2) or unicode_ (Python3)\n",
    "unicode\t|unicode_\n",
    "buffer\t|void\n",
    "(all others)\t|object_"
   ]
  },
  {
   "cell_type": "code",
   "execution_count": 120,
   "metadata": {},
   "outputs": [],
   "source": [
    "import numpy as np\n",
    "\n",
    "# 使用内置类型构造\n",
    "dt = np.dtype(int)"
   ]
  },
  {
   "cell_type": "markdown",
   "metadata": {},
   "source": [
    "#### 使用已知的dtype类型"
   ]
  },
  {
   "cell_type": "code",
   "execution_count": 121,
   "metadata": {},
   "outputs": [],
   "source": [
    "import numpy as np\n",
    "na = np.ndarray(shape=(3, 3))\n",
    "\n",
    "na2 = np.ndarray(shape=(3, 3), dtype=na.dtype)"
   ]
  },
  {
   "cell_type": "markdown",
   "metadata": {},
   "source": [
    "#### 表示类型的单字符\n",
    "\n",
    "- `< 小端字节序`\n",
    "- `> 大端字节序`"
   ]
  },
  {
   "cell_type": "code",
   "execution_count": 122,
   "metadata": {},
   "outputs": [],
   "source": [
    "import numpy as np\n",
    "dt = np.dtype('b')  # byte, native byte order\n",
    "dt = np.dtype('>H') # big-endian unsigned short\n",
    "dt = np.dtype('<f') # little-endian single-precision float\n",
    "dt = np.dtype('d')  # double-precision floating-point number"
   ]
  },
  {
   "cell_type": "markdown",
   "metadata": {},
   "source": [
    "#### 指定长度的字符\n",
    "\n",
    "\n",
    "符号|类型\n",
    "-|-\n",
    "'?'\t|boolean\n",
    "'b'\t|(signed) byte\n",
    "'B'\t|unsigned byte\n",
    "'i'\t|(signed) integer\n",
    "'u'\t|unsigned integer\n",
    "'f'\t|floating-point\n",
    "'c'\t|complex-floating point\n",
    "'m'\t|timedelta\n",
    "'M'\t|datetime\n",
    "'O'\t|(Python) objects\n",
    "'S', 'a'\t|zero-terminated bytes (not recommended)\n",
    "'U'\t|Unicode string\n",
    "'V'\t|raw data (void)"
   ]
  },
  {
   "cell_type": "code",
   "execution_count": 123,
   "metadata": {},
   "outputs": [],
   "source": [
    "import numpy as np\n",
    "\n",
    "dt = np.dtype('i4')   # 32-bit signed integer\n",
    "dt = np.dtype('f8')   # 64-bit floating-point number\n",
    "dt = np.dtype('c16')  # 128-bit complex floating-point number\n",
    "dt = np.dtype('a25')  # 25-length zero-terminated bytes\n",
    "dt = np.dtype('U25')  # 25-character string"
   ]
  },
  {
   "cell_type": "markdown",
   "metadata": {},
   "source": [
    "#### 逗号分隔的字段字符串\n",
    "\n",
    "- 定义复合类型：多个字段"
   ]
  },
  {
   "cell_type": "code",
   "execution_count": 124,
   "metadata": {},
   "outputs": [],
   "source": [
    "import numpy as np\n",
    "dt = np.dtype(\"i4, (2,3)f8, f4\")   # 表示三个字段  ，其中第二个字段表示形状为(2,3)的数组"
   ]
  },
  {
   "cell_type": "markdown",
   "metadata": {},
   "source": [
    "#### 类型字符串"
   ]
  },
  {
   "cell_type": "code",
   "execution_count": 125,
   "metadata": {},
   "outputs": [],
   "source": [
    "import numpy as np\n",
    "\n",
    "# dt = np.dtype('uint32')   # 32-bit unsigned integer\n",
    "# dt = np.dtype('Float64')  # 64-bit floating-point number\n",
    "dt = np.dtype('uint32') \n",
    "\n",
    "# 上面字符串可以使用如下代码获取\n",
    "# print(np.sctypeDict)\n",
    "\n",
    "dt = np.dtype('string_') "
   ]
  },
  {
   "cell_type": "markdown",
   "metadata": {},
   "source": [
    "### 构造元素是结构的数组\n",
    "\n",
    "#### 构造多字段元素的数组"
   ]
  },
  {
   "cell_type": "code",
   "execution_count": 126,
   "metadata": {},
   "outputs": [
    {
     "name": "stdout",
     "output_type": "stream",
     "text": [
      "[[(         0, [[-805306368, -311925863], [-805304326,         17]],  0.00000000e+000)\n",
      "  (         0, [[         0,        109], [1936532091, 1684627303]],  1.80167974e+185)\n",
      "  (1681351735, [[ 878784566,  960050790], [ 945894961,  929182771]],  5.24969644e-144)]\n",
      " [(1937056300, [[1634628197,  975332717], [1702065442, 1835101810]],  1.35617292e+248)\n",
      "  ( 577662825, [[1697849914,  875640886], [ 875651888, 1697931572]],  1.45233191e-051)\n",
      "  (1650745651, [[ 825700966,  740450659], [1735617826, 1887007839]],  6.48224638e+170)]\n",
      " [(1600484469, [[1970365810,  578057061], [1702240812, 1869181810]],  5.82381892e-144)\n",
      "  (1633952300, [[ 975332724,  825242146], [ 875572537, 1412772141]],  4.08825530e-033)\n",
      "  ( 876098606, [[1513239097, -310543070], [      2042,          0]], -1.07434484e+219)]]\n",
      "一个元素： (577662825, [[1697849914,  875640886], [ 875651888, 1697931572]], 1.45233191e-51)\n"
     ]
    }
   ],
   "source": [
    "import numpy as np\n",
    "\n",
    "na = np.ndarray(shape=(3, 3),  dtype=np.dtype(\"i4, (2,2)i4, f8\"))\n",
    "print(na)\n",
    "\n",
    "print('一个元素：',na[1,1])"
   ]
  },
  {
   "cell_type": "markdown",
   "metadata": {},
   "source": [
    "#### 指定数据大小(flexible_dtype, itemsize)"
   ]
  },
  {
   "cell_type": "code",
   "execution_count": 127,
   "metadata": {},
   "outputs": [
    {
     "name": "stdout",
     "output_type": "stream",
     "text": [
      "[['' '' '']\n",
      " ['' 'abcdefghij' '']\n",
      " ['' '' '']]\n"
     ]
    }
   ],
   "source": [
    "import numpy as np\n",
    "dt = np.dtype(('U', 10)) \n",
    "\n",
    "na = np.ndarray(shape=(3, 3),  dtype=np.dtype(('U', 10)))\n",
    "na[1,1]='abcdefghijklmn'\n",
    "print(na)"
   ]
  },
  {
   "cell_type": "markdown",
   "metadata": {},
   "source": [
    "3. 指定数组类型(fixed_dtype, shape)"
   ]
  },
  {
   "cell_type": "code",
   "execution_count": 128,
   "metadata": {},
   "outputs": [
    {
     "name": "stdout",
     "output_type": "stream",
     "text": [
      "[[[[-805306368          0]\n",
      "   [-805306368         16]]\n",
      "\n",
      "  [[         0 -805306368]\n",
      "   [1702240891 1869181810]]\n",
      "\n",
      "  [[ 975332724  825242146]\n",
      "   [ 875572537 1412772141]]]\n",
      "\n",
      "\n",
      " [[[1513108022 1931619362]\n",
      "   [1769173861  975335023]]\n",
      "\n",
      "  [[         1          2]\n",
      "   [         3          4]]\n",
      "\n",
      "  [[1835101810  574235237]\n",
      "   [1735287161 1851877745]]]\n",
      "\n",
      "\n",
      " [[[1931622946 1970561396]\n",
      "   [ 573317747 1600615277]]\n",
      "\n",
      "  [[1680878896  828781362]\n",
      "   [ 825307959  842217529]]\n",
      "\n",
      "  [[1513109297    8224034]\n",
      "   [    655469          0]]]]\n"
     ]
    }
   ],
   "source": [
    "import numpy as np\n",
    "dt = np.dtype((np.int32, (2,2)))\n",
    "\n",
    "\n",
    "\n",
    "na = np.ndarray(shape=(3, 3),  dtype=np.dtype((np.int32, (2,2))))\n",
    "na[1,1]=np.array(\n",
    "    [\n",
    "        [1,2],\n",
    "        [3,4]\n",
    "    ])\n",
    "print(na)"
   ]
  },
  {
   "cell_type": "markdown",
   "metadata": {},
   "source": [
    "4. 构造有字段名的类型\n",
    "    - `[(field_name, field_dtype, field_shape), ...]`"
   ]
  },
  {
   "cell_type": "code",
   "execution_count": 129,
   "metadata": {},
   "outputs": [
    {
     "name": "stdout",
     "output_type": "stream",
     "text": [
      "[[('',  0) ('',  0) ('',  0)]\n",
      " [('',  0) ('Louis', 18) ('',  0)]\n",
      " [('',  0) ('',  0) ('',  0)]]\n"
     ]
    }
   ],
   "source": [
    "import numpy as np\n",
    "\n",
    "na = np.ndarray(shape=(3, 3),  dtype=np.dtype([('name', ('U', 10)),('age', 'i4')]))\n",
    "na[1,1]['name']='Louis'\n",
    "na[1,1]['age']=18\n",
    "print(na)"
   ]
  },
  {
   "cell_type": "markdown",
   "metadata": {},
   "source": [
    "### 使用函数构造ndarray数组"
   ]
  },
  {
   "cell_type": "markdown",
   "metadata": {},
   "source": [
    "#### 1-0构成的数组\n",
    "\n",
    "- `numpy.empty(shape, dtype=float, order='C')`\n",
    "- `numpy.eye(N, M=None, k=0, dtype=<class 'float'>, order='C')`\n",
    "- `numpy.identity(n, dtype=None)`\n",
    "- `numpy.zeros(shape, dtype=float, order='C')`\n",
    "- `numpy.full(shape, fill_value, dtype=None, order='C')`\n",
    "\n",
    "- `numpy.full_like(a, fill_value, dtype=None, order='K', subok=True)`"
   ]
  },
  {
   "cell_type": "code",
   "execution_count": 130,
   "metadata": {},
   "outputs": [
    {
     "name": "stdout",
     "output_type": "stream",
     "text": [
      "[[ 0.00000000e+000  1.80167974e+185  5.24969644e-144]\n",
      " [ 1.35617292e+248  1.45233191e-051  6.48224638e+170]\n",
      " [ 5.82381892e-144  4.08825530e-033 -1.07434484e+219]]\n",
      "[[0. 1. 0.]\n",
      " [0. 0. 1.]\n",
      " [0. 0. 0.]]\n",
      "[[1 1 1]\n",
      " [1 1 1]\n",
      " [1 1 1]]\n",
      "[[1. 0. 0.]\n",
      " [0. 1. 0.]\n",
      " [0. 0. 1.]]\n",
      "[[1. 1. 1.]\n",
      " [1. 1. 1.]\n",
      " [1. 1. 1.]]\n"
     ]
    }
   ],
   "source": [
    "import numpy as np\n",
    "\n",
    "na = np.empty(shape=(3, 3))   # 这个值不确定\n",
    "print(na)\n",
    "\n",
    "na = np.eye(N=3, M=3, k=1)   # k指定对角线的位置\n",
    "print(na)\n",
    "\n",
    "na = np.full(shape=(3,3), fill_value=1)   \n",
    "print(na)\n",
    "\n",
    "na = np.identity(3)    # 等价矩阵\n",
    "print(na)\n",
    "\n",
    "# ------------\n",
    "na = np.full_like(na, fill_value=1)   \n",
    "print(na)\n"
   ]
  },
  {
   "cell_type": "markdown",
   "metadata": {},
   "source": [
    "#### 使用已知Python数组构造\n",
    "\n",
    "- `numpy.array(object, dtype=None, copy=True, order='K', subok=False, ndmin=0)`\n",
    "- `numpy.asmatrix(data, dtype=None)`"
   ]
  },
  {
   "cell_type": "code",
   "execution_count": 131,
   "metadata": {},
   "outputs": [
    {
     "name": "stdout",
     "output_type": "stream",
     "text": [
      "(2,)\n",
      "[1 2]\n",
      "(1, 2)\n",
      "[[1 2]]\n"
     ]
    }
   ],
   "source": [
    "import numpy as np\n",
    "\n",
    "na = np.array(\n",
    "    [1,2\n",
    "#         [1,2],\n",
    "#         [3,4]\n",
    "    ]\n",
    ")\n",
    "\n",
    "print(na.shape)\n",
    "print(na)\n",
    "\n",
    "\n",
    "na = np.asmatrix(\n",
    "    [1,2\n",
    "#         [1,2],\n",
    "#         [3,4]\n",
    "    ]\n",
    ")\n",
    "\n",
    "print(na.shape)\n",
    "print(na)"
   ]
  },
  {
   "cell_type": "markdown",
   "metadata": {},
   "source": [
    "#### 使用指定范围构造数组\n",
    "\n",
    "- `numpy.arange([start, ]stop, [step, ]dtype=None)`\n",
    "- `numpy.linspace(start, stop, num=50, endpoint=True, retstep=False, dtype=None)` \n",
    "- `numpy.logspace(start, stop, num=50, endpoint=True, base=10.0, dtype=None)`\n",
    "- `numpy.meshgrid(*xi, **kwargs)`\n",
    "- `numpy.mgrid`\n",
    "- `numpy.ogrid`"
   ]
  },
  {
   "cell_type": "code",
   "execution_count": 132,
   "metadata": {},
   "outputs": [
    {
     "name": "stdout",
     "output_type": "stream",
     "text": [
      "[1 2 3 4 5 6 7 8 9]\n",
      "[1. 5. 9.]\n",
      "[ 1.  2.  3.  4.  5.  6.  7.  8.  9. 10.] [ -1.  -2.  -3.  -4.  -5.  -6.  -7.  -8.  -9. -10.]\n",
      "[array([[ 1.,  2.,  3.,  4.,  5.,  6.,  7.,  8.,  9., 10.],\n",
      "       [ 1.,  2.,  3.,  4.,  5.,  6.,  7.,  8.,  9., 10.],\n",
      "       [ 1.,  2.,  3.,  4.,  5.,  6.,  7.,  8.,  9., 10.],\n",
      "       [ 1.,  2.,  3.,  4.,  5.,  6.,  7.,  8.,  9., 10.],\n",
      "       [ 1.,  2.,  3.,  4.,  5.,  6.,  7.,  8.,  9., 10.],\n",
      "       [ 1.,  2.,  3.,  4.,  5.,  6.,  7.,  8.,  9., 10.],\n",
      "       [ 1.,  2.,  3.,  4.,  5.,  6.,  7.,  8.,  9., 10.],\n",
      "       [ 1.,  2.,  3.,  4.,  5.,  6.,  7.,  8.,  9., 10.],\n",
      "       [ 1.,  2.,  3.,  4.,  5.,  6.,  7.,  8.,  9., 10.],\n",
      "       [ 1.,  2.,  3.,  4.,  5.,  6.,  7.,  8.,  9., 10.]]), array([[ -1.,  -1.,  -1.,  -1.,  -1.,  -1.,  -1.,  -1.,  -1.,  -1.],\n",
      "       [ -2.,  -2.,  -2.,  -2.,  -2.,  -2.,  -2.,  -2.,  -2.,  -2.],\n",
      "       [ -3.,  -3.,  -3.,  -3.,  -3.,  -3.,  -3.,  -3.,  -3.,  -3.],\n",
      "       [ -4.,  -4.,  -4.,  -4.,  -4.,  -4.,  -4.,  -4.,  -4.,  -4.],\n",
      "       [ -5.,  -5.,  -5.,  -5.,  -5.,  -5.,  -5.,  -5.,  -5.,  -5.],\n",
      "       [ -6.,  -6.,  -6.,  -6.,  -6.,  -6.,  -6.,  -6.,  -6.,  -6.],\n",
      "       [ -7.,  -7.,  -7.,  -7.,  -7.,  -7.,  -7.,  -7.,  -7.,  -7.],\n",
      "       [ -8.,  -8.,  -8.,  -8.,  -8.,  -8.,  -8.,  -8.,  -8.,  -8.],\n",
      "       [ -9.,  -9.,  -9.,  -9.,  -9.,  -9.,  -9.,  -9.,  -9.,  -9.],\n",
      "       [-10., -10., -10., -10., -10., -10., -10., -10., -10., -10.]])]\n"
     ]
    }
   ],
   "source": [
    "import numpy as np\n",
    "\n",
    "na = np.arange(1, 10, 1)\n",
    "print(na)\n",
    "\n",
    "na = np.linspace(1, 9, 3)\n",
    "print(na)\n",
    "\n",
    "# -----------网格\n",
    "x = np.linspace(1, 10, 10)\n",
    "y = np.linspace(-1, -10, 10)\n",
    "print(x,y)\n",
    "\n",
    "ms = np.meshgrid(x, y,indexing='xy')\n",
    "print(ms)"
   ]
  },
  {
   "cell_type": "code",
   "execution_count": 133,
   "metadata": {},
   "outputs": [
    {
     "name": "stdout",
     "output_type": "stream",
     "text": [
      "[[[-1.  -1.  -1.  -1.  -1.  -1.  -1.  -1.  -1.  -1. ]\n",
      "  [-0.5 -0.5 -0.5 -0.5 -0.5 -0.5 -0.5 -0.5 -0.5 -0.5]\n",
      "  [ 0.   0.   0.   0.   0.   0.   0.   0.   0.   0. ]\n",
      "  [ 0.5  0.5  0.5  0.5  0.5  0.5  0.5  0.5  0.5  0.5]\n",
      "  [ 1.   1.   1.   1.   1.   1.   1.   1.   1.   1. ]]\n",
      "\n",
      " [[ 1.   2.   3.   4.   5.   6.   7.   8.   9.  10. ]\n",
      "  [ 1.   2.   3.   4.   5.   6.   7.   8.   9.  10. ]\n",
      "  [ 1.   2.   3.   4.   5.   6.   7.   8.   9.  10. ]\n",
      "  [ 1.   2.   3.   4.   5.   6.   7.   8.   9.  10. ]\n",
      "  [ 1.   2.   3.   4.   5.   6.   7.   8.   9.  10. ]]]\n",
      "[array([[0.],\n",
      "       [1.],\n",
      "       [2.],\n",
      "       [3.],\n",
      "       [4.],\n",
      "       [5.]]), array([[0., 1., 2., 3., 4., 5.]])]\n"
     ]
    }
   ],
   "source": [
    "import numpy as np\n",
    "\n",
    "na = np.mgrid[-1:1:5j, 1:10:10j]\n",
    "print(na)\n",
    "\n",
    "na = np.ogrid[0:5:6j,0:5:6j]\n",
    "print(na)"
   ]
  },
  {
   "cell_type": "markdown",
   "metadata": {},
   "source": [
    "#### 构造矩阵\n",
    "\n",
    "- `numpy.diag(v, k=0)`  返回对角线\n",
    "- `numpy.tri(N, M=None, k=0, dtype=<class 'float'>)`\n"
   ]
  },
  {
   "cell_type": "code",
   "execution_count": 134,
   "metadata": {},
   "outputs": [
    {
     "name": "stdout",
     "output_type": "stream",
     "text": [
      "[ 2  7 12]\n",
      "[[0. 0. 0. 0.]\n",
      " [1. 0. 0. 0.]\n",
      " [1. 1. 0. 0.]]\n"
     ]
    }
   ],
   "source": [
    "import numpy as np\n",
    "\n",
    "m = np.array(\n",
    "    [\n",
    "        [1, 2, 3, 4],\n",
    "        [5, 6, 7, 8],\n",
    "        [9,10,11,12]\n",
    "    ]\n",
    ")\n",
    "\n",
    "na = np.diag(m,k=1)  # k 是对角线的偏移位置\n",
    "print(na)\n",
    "\n",
    "na = np.tri(3,4, -1)   # k可以取正负，以对角线为准\n",
    "print(na)"
   ]
  },
  {
   "cell_type": "markdown",
   "metadata": {},
   "source": [
    "#### 创建矩阵类型\n",
    "\n",
    "- `numpy.mat(data, dtype=None)`"
   ]
  },
  {
   "cell_type": "code",
   "execution_count": 135,
   "metadata": {},
   "outputs": [
    {
     "name": "stdout",
     "output_type": "stream",
     "text": [
      "<class 'numpy.matrixlib.defmatrix.matrix'>\n"
     ]
    }
   ],
   "source": [
    "import numpy as np\n",
    "\n",
    "m = np.mat(\n",
    "    [\n",
    "        [1, 2, 3, 4],\n",
    "        [5, 6, 7, 8],\n",
    "        [9,10,11,12]\n",
    "    ]\n",
    ")\n",
    "print(type(m))"
   ]
  },
  {
   "cell_type": "markdown",
   "metadata": {},
   "source": [
    "### 使用第三方工具返回ndarray数组"
   ]
  },
  {
   "cell_type": "markdown",
   "metadata": {},
   "source": [
    "#### 鸢尾花数组\n",
    "\n",
    "- 在sklearn模块中可以加载鸢尾花"
   ]
  },
  {
   "cell_type": "code",
   "execution_count": 136,
   "metadata": {},
   "outputs": [
    {
     "name": "stdout",
     "output_type": "stream",
     "text": [
      "<class 'numpy.ndarray'> <class 'numpy.ndarray'>\n"
     ]
    }
   ],
   "source": [
    "import sklearn.datasets\n",
    "\n",
    "data,target = sklearn.datasets.load_iris(return_X_y=True)\n",
    "print(type(data), type(target))\n"
   ]
  },
  {
   "cell_type": "markdown",
   "metadata": {},
   "source": [
    "#### 加载图像文件数组"
   ]
  },
  {
   "cell_type": "code",
   "execution_count": 137,
   "metadata": {},
   "outputs": [
    {
     "name": "stdout",
     "output_type": "stream",
     "text": [
      "<class 'numpy.ndarray'>\n"
     ]
    }
   ],
   "source": [
    "import cv2\n",
    "\n",
    "img=cv2.imread('huanqiu.png')\n",
    "print(type(img))\n"
   ]
  },
  {
   "cell_type": "markdown",
   "metadata": {},
   "source": [
    "#### 使用matplotlib打开图像"
   ]
  },
  {
   "cell_type": "code",
   "execution_count": 138,
   "metadata": {},
   "outputs": [
    {
     "name": "stdout",
     "output_type": "stream",
     "text": [
      "<class 'numpy.ndarray'>\n"
     ]
    }
   ],
   "source": [
    "import matplotlib.pyplot as plt\n",
    "\n",
    "image = plt.imread('huanqiu.png')\n",
    "print(type(image))"
   ]
  },
  {
   "cell_type": "markdown",
   "metadata": {},
   "source": [
    "#### 抓取摄像头图像数组"
   ]
  },
  {
   "cell_type": "code",
   "execution_count": null,
   "metadata": {},
   "outputs": [],
   "source": [
    "#!/usr/bin/python\n",
    "# coding = utf-8\n",
    "from PyQt5.QtCore import *\n",
    "from PyQt5.QtWidgets import *\n",
    "from PyQt5.QtGui import *\n",
    "import cv2\n",
    "import sys\n",
    "\n",
    "class MainWidget(QWidget):\n",
    "    def __init__(self):\n",
    "        super(MainWidget, self).__init__()\n",
    "        self.timer = QTimer()\n",
    "        # 窗体初始化\n",
    "        screen = QApplication.desktop()\n",
    "        screen_w = screen.width()\n",
    "        screen_h = screen.height()\n",
    "        self.setWindowFlags(\n",
    "            Qt.CustomizeWindowHint |\n",
    "            Qt.WindowMinimizeButtonHint |\n",
    "            Qt.WindowCloseButtonHint\n",
    "        )\n",
    "        # self.setWindowState(Qt.WindowFullScreen)\n",
    "        self.setGeometry(\n",
    "            (screen_w - 800) / 2, (screen_h - 600) / 2,\n",
    "            800, 600)\n",
    "        # 显示视频图像\n",
    "        self.lbl_qr = QLabel(self, text='<font size=20>视频采集中...</font>')\n",
    "        self.lbl_qr.setAlignment(Qt.AlignCenter)\n",
    "        self.lbl_qr.setGeometry((800 - 640)/2, (600 - 360)/2, 640, 360)\n",
    "        self.show()\n",
    "\n",
    "        self.dev = cv2.VideoCapture(0)\n",
    "\n",
    "        self.timer.timeout.connect(self.capture_video)\n",
    "        self.timer.start(100)\n",
    "\n",
    "    def capture_video(self):\n",
    "        status, img = self.dev.read()\n",
    "        img = cv2.cvtColor(img, cv2.COLOR_BGR2RGB)\n",
    "        image = QImage(img,   # 图像的子节数组(numpy.ndarray)\n",
    "                       img.shape[1],   # 图像高度\n",
    "                       img.shape[0],   # 图像宽度\n",
    "                       img.shape[1] * 3,  # 每行的字节数\n",
    "                       QImage.Format_RGB888)  # 图像的格式3个子节\n",
    "        png1 = QPixmap(image)\n",
    "        self.lbl_qr.setPixmap(png1)\n",
    "        self.lbl_qr.setScaledContents(True)\n",
    "\n",
    "\n",
    "app = QApplication(sys.argv)\n",
    "ui_main = MainWidget()\n",
    "sys.exit(app.exec())\n"
   ]
  }
 ],
 "metadata": {
  "kernelspec": {
   "display_name": "Python 3",
   "language": "python",
   "name": "python3"
  },
  "language_info": {
   "codemirror_mode": {
    "name": "ipython",
    "version": 3
   },
   "file_extension": ".py",
   "mimetype": "text/x-python",
   "name": "python",
   "nbconvert_exporter": "python",
   "pygments_lexer": "ipython3",
   "version": "3.6.6"
  },
  "toc": {
   "base_numbering": 1,
   "nav_menu": {},
   "number_sections": true,
   "sideBar": true,
   "skip_h1_title": false,
   "title_cell": "Table of Contents",
   "title_sidebar": "Contents",
   "toc_cell": false,
   "toc_position": {
    "height": "calc(100% - 180px)",
    "left": "10px",
    "top": "150px",
    "width": "263px"
   },
   "toc_section_display": true,
   "toc_window_display": true
  }
 },
 "nbformat": 4,
 "nbformat_minor": 2
}
