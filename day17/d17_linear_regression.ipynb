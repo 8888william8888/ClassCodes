{
 "cells": [
  {
   "cell_type": "markdown",
   "metadata": {},
   "source": [
    "# 线性回归的应用背景"
   ]
  },
  {
   "cell_type": "markdown",
   "metadata": {},
   "source": [
    "- 已知数据\n",
    "    - ex2x.dat：年龄 （1年龄小孩的年龄）\n",
    "    - ex2y.dat：身高（1-8岁小孩的身高）\n",
    "\n",
    "- 规律：\n",
    "    - 年龄与身高成正比（直观与直觉）\n",
    "    - 验证模型（找出直觉的规律）"
   ]
  },
  {
   "cell_type": "markdown",
   "metadata": {},
   "source": [
    "-----\n",
    "- 注释：\n",
    "    -  "
   ]
  },
  {
   "cell_type": "code",
   "execution_count": null,
   "metadata": {},
   "outputs": [],
   "source": []
  },
  {
   "cell_type": "markdown",
   "metadata": {},
   "source": [
    "## 通过可视化寻找模型\n",
    "\n",
    "- 散点图：描述数据点"
   ]
  },
  {
   "cell_type": "code",
   "execution_count": 26,
   "metadata": {},
   "outputs": [
    {
     "data": {
      "image/png": "[encoded data removed]",
      "text/plain": [
       "<Figure size 576x432 with 1 Axes>"
      ]
     },
     "metadata": {
      "needs_background": "light"
     },
     "output_type": "display_data"
    }
   ],
   "source": [
    "% matplotlib inline\n",
    "\n",
    "import matplotlib.pyplot  as plt\n",
    "import numpy as np\n",
    "\n",
    "figure = plt.figure('身高与年龄', figsize=(8, 6))\n",
    "ax = figure.add_axes([0.1, 0.1, 0.8, 0.8])\n",
    "ax.set_xlim(0, 9)\n",
    "ax.set_ylim(0.5, 1.5)\n",
    "# x轴：年龄 / y轴：身高\n",
    "# 加载数据\n",
    "age = np.loadtxt('ex2x.dat')\n",
    "height = np.loadtxt('ex2y.dat')\n",
    "\n",
    "ax.scatter(age, height, s=16, c='b', marker='.')\n",
    "\n",
    "plt.show()"
   ]
  },
  {
   "cell_type": "markdown",
   "metadata": {},
   "source": [
    "- 直观的视觉结论：\n",
    "    - 身高与年龄成正比函数。\n",
    "    \n",
    "- 问题：\n",
    "    - 什么样的正比例函数？（机器学习？数学问题求解）\n",
    "    - 正比例函数：线性函数\n",
    "\n",
    "\n"
   ]
  },
  {
   "cell_type": "markdown",
   "metadata": {},
   "source": [
    "# 线性回归的模型与推导\n",
    "\n",
    "- 算法模型的三部曲：\n",
    "    - 模型\n",
    "    - 求解的算法\n",
    "    - Python/C/Java实现\n",
    "\n",
    "- 测试\n",
    "    - 实验数据\n",
    "    \n",
    "- 生产应用\n",
    "    - 商业数据\n",
    "    "
   ]
  },
  {
   "cell_type": "markdown",
   "metadata": {},
   "source": [
    "- 概念：\n",
    "    - 一元回归（少见）\n",
    "        - 输入的数据一个\n",
    "    - 多元回归（生产）\n",
    "        - 输入数据多维（多个）\n",
    "    \n",
    "    - 特征数据/数据特征\n",
    "        - 多个数据特征形成数据：样本\n",
    "        \n",
    "    \n",
    "    - 已知样本：\n",
    "        - 训练样本\n",
    "        - 测试样本\n",
    "        \n",
    "        - 标签数据\n",
    "        \n",
    "    - 用途：\n",
    "        - 预测\n",
    "        - 分类\n",
    "\n",
    "- 数学名词：\n",
    "    - 斜率：权重系数\n",
    "    - 截距：偏置项"
   ]
  },
  {
   "cell_type": "markdown",
   "metadata": {},
   "source": [
    "## 模型的表示\n",
    "    \n",
    "- 模型：\n",
    "    - 经验建模：\n",
    "        - $y = w x  +  b$\n",
    "        - $y = w_1x_1 + w_2x_2 + \\dots + w_{n}x_{n} + b$\n",
    "        \n",
    "        - $y = W X + b$ : 向量乘积：内积、点积\n",
    "            - $W = (w_1,w_2,\\dots,w_n)$\n",
    "            - $X = (x_1,x_2,\\dots,x_n)$\n",
    "            \n",
    "        - 另外表示方式：\n",
    "            - $X_i=(x_{1i},x_{2i},\\dots, x_{ni}, 1)$\n",
    "            - $W=(w_1,w_2,\\dots, w_n, b)$\n",
    "            - $y_i= WX_i$    : $Xi$就是第$i$个样本\n",
    "            \n",
    "- 定义：\n",
    "    - 约定俗成\n",
    "\n",
    "\n",
    "- 线性：\n",
    "    - 直线，平面，"
   ]
  },
  {
   "cell_type": "markdown",
   "metadata": {},
   "source": [
    "```python\n",
    "\n",
    "https://www.jianshu.com/p/d26c0b3b71ea\n",
    "    \n",
    "```"
   ]
  },
  {
   "cell_type": "markdown",
   "metadata": {},
   "source": [
    "- 模型的表示\n",
    "    - $y_i = x_i W, \\qquad\\qquad \\text{i表示第i个样本，行向量}$"
   ]
  },
  {
   "cell_type": "markdown",
   "metadata": {},
   "source": [
    "## 模型的推导"
   ]
  },
  {
   "cell_type": "markdown",
   "metadata": {},
   "source": [
    "- 线性永远不可能是理想的线性模型，肯定存在误差：\n",
    "    - 年龄不存在误差，身高存在测量误差，误差表示：$\\epsilon$\n",
    "    \n",
    "    \n",
    "    \n",
    "    \n",
    "- 误差情况下线性模型：线性模型的误差模型。\n",
    "    - $y_i = x_i W  + \\epsilon_{i}$\n",
    "    \n",
    "         - 其中$\\epsilon_i$是第$i$个样本的误差"
   ]
  },
  {
   "cell_type": "markdown",
   "metadata": {},
   "source": [
    "- 误差的原则：\n",
    "    - 误差越小，概率越大（产生小误差概率越大是最好的情况）"
   ]
  },
  {
   "cell_type": "markdown",
   "metadata": {},
   "source": [
    "- 误差的概率模型：\n",
    "    - 假设：误差遵循高斯分布。（最符合人类的直观期望，其实还有其他概率规则）"
   ]
  },
  {
   "cell_type": "markdown",
   "metadata": {},
   "source": [
    "- 概率的计算公式\n",
    "    - 高斯分布：中心点：均值点$\\mu$，离散度：偏差、方差$\\sigma$\n",
    "    - 高斯分布表示：$N(\\mu,\\sigma)$\n",
    "    \n",
    "    - $N(x, \\mu,\\sigma) = \\dfrac{1}{\\sqrt{2\\pi} \\sigma}  exp( - \\dfrac{(x- \\mu) ^2 }{2 \\sigma ^ 2}  ) $"
   ]
  },
  {
   "cell_type": "markdown",
   "metadata": {},
   "source": [
    "- 假设高斯分布：\n",
    "    - $\\mu = 0$\n",
    "    - $\\sigma = 1$\n",
    "    \n",
    "    - 标准正态分布：标准高斯分布\n",
    "    \n",
    "    -$N(x) = \\dfrac{1}{\\sqrt{2\\pi}}  exp( - \\dfrac{x ^2 }{2}  ) $"
   ]
  },
  {
   "cell_type": "markdown",
   "metadata": {},
   "source": [
    "- 使用高斯公司表示误差\n",
    "\n",
    "    - $N(\\epsilon_i) = \\dfrac{1}{\\sqrt{2\\pi}}  exp( - \\dfrac{\\epsilon_i ^2 }{2}  ) $"
   ]
  },
  {
   "cell_type": "markdown",
   "metadata": {},
   "source": [
    "## 补充-误差的概率计算\n",
    "\n",
    "- 使用matplotlib演示误差的概率。"
   ]
  },
  {
   "cell_type": "code",
   "execution_count": 47,
   "metadata": {},
   "outputs": [
    {
     "name": "stdout",
     "output_type": "stream",
     "text": [
      "7.69459862670642e-23 0.3989422784067213\n"
     ]
    },
    {
     "data": {
      "image/png": "[encoded data removed]",
      "text/plain": [
       "<Figure size 576x288 with 1 Axes>"
      ]
     },
     "metadata": {
      "needs_background": "light"
     },
     "output_type": "display_data"
    }
   ],
   "source": [
    "%matplotlib inline\n",
    "import matplotlib.pyplot as plt\n",
    "import numpy as np\n",
    "\n",
    "figure = plt.figure('标准正态概率函数',figsize=(8, 4))\n",
    "ax = figure.add_axes([0.1, 0.1, 0.8,0.8])\n",
    "ax.set_ylim(0, 0.5)\n",
    "n = lambda x :  (1.0/ np.sqrt(np.pi * 2.0)) * np.exp( - x**2 / 2.0 )\n",
    "x = np.linspace(-5,5, 100)\n",
    "y = n(x)\n",
    "\n",
    "ax.plot(x, y, color=(0, 0, 1, 1))\n",
    "\n",
    "# 计算：产生0误差的概率，产生0.001的误差的概率\n",
    "y_0 = n(10)\n",
    "y_0001= n(0.0001)\n",
    "print(y_0, y_0001)\n",
    "ax.scatter(10, y_0, c='r', marker='o', s = 64)\n",
    "ax.scatter(0.0001, y_0001, c='r', marker='o', s= 64)\n",
    "\n",
    "figure.show(warn=False)"
   ]
  },
  {
   "cell_type": "markdown",
   "metadata": {},
   "source": [
    "## 线性回归的优化模型\n",
    "\n",
    "- 找到一条直线，是的已知数据的误差最小，概率最大。"
   ]
  },
  {
   "cell_type": "markdown",
   "metadata": {},
   "source": [
    "## 把误差模型应用到线性模型\n",
    "\n",
    "- 表达式代入\n",
    "\n",
    "- $N(\\epsilon_i) = p(\\epsilon_i | x_i, W) = \\dfrac{1}{\\sqrt{ 2 \\pi} \\sigma} exp(- \\dfrac{(y_i - x_i W)^2}{2})$\n",
    "\n",
    "    - 其中$i$表示第$i$个样本的误差概率"
   ]
  },
  {
   "cell_type": "markdown",
   "metadata": {},
   "source": [
    "- 误差越小，概率越大。\n",
    "\n",
    "- 50个样本的误差同时发生的概率怎么计算。\n",
    "    - 同时发生的概率表达。所有的概率相乘。\n",
    "    \n",
    "- 所有样本的误差发生概率\n",
    "    \n",
    "    - $L(W) =  \\prod \\limits_{i=1} ^{n} N(\\epsilon_i) = \\prod \\limits_{i=1}^{n} p(\\epsilon_i | x_i, W)$\n",
    "    \n",
    "    - 其中的n表示所有的样本\n",
    "\n",
    "\n",
    "- 上面的函数\n",
    "     - 称为：极大(最大）似然概率函数\n",
    "     \n",
    "     \n",
    "- 问题的变化：\n",
    "    - 通过算法找到一个$W$使得$L(W)$的值最大（概率最大，误差最小）。\n",
    "     "
   ]
  },
  {
   "cell_type": "markdown",
   "metadata": {},
   "source": [
    "## 求解最大值问题\n"
   ]
  },
  {
   "cell_type": "markdown",
   "metadata": {},
   "source": []
  },
  {
   "cell_type": "markdown",
   "metadata": {},
   "source": []
  },
  {
   "cell_type": "markdown",
   "metadata": {},
   "source": []
  },
  {
   "cell_type": "markdown",
   "metadata": {},
   "source": []
  },
  {
   "cell_type": "markdown",
   "metadata": {},
   "source": []
  }
 ],
 "metadata": {
  "kernelspec": {
   "display_name": "Python 3",
   "language": "python",
   "name": "python3"
  },
  "language_info": {
   "codemirror_mode": {
    "name": "ipython",
    "version": 3
   },
   "file_extension": ".py",
   "mimetype": "text/x-python",
   "name": "python",
   "nbconvert_exporter": "python",
   "pygments_lexer": "ipython3",
   "version": "3.6.6"
  },
  "toc": {
   "base_numbering": 1,
   "nav_menu": {},
   "number_sections": true,
   "sideBar": true,
   "skip_h1_title": false,
   "title_cell": "Table of Contents",
   "title_sidebar": "Contents",
   "toc_cell": false,
   "toc_position": {},
   "toc_section_display": true,
   "toc_window_display": true
  }
 },
 "nbformat": 4,
 "nbformat_minor": 2
}
