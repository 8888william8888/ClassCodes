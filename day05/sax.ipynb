{
 "cells": [
  {
   "cell_type": "markdown",
   "metadata": {},
   "source": [
    "# XML DOM"
   ]
  },
  {
   "cell_type": "markdown",
   "metadata": {},
   "source": [
    "Python标准库xml模块提供4个功能模块：\n",
    "\n",
    "    \n",
    "    sax    -- 基于事件的XML文档处理；\n",
    "    dom   -- DOM接口实现；\n",
    "    etree  -- 文档树\n",
    "    parsers --  XML解析器的Python包装器\n"
   ]
  },
  {
   "cell_type": "markdown",
   "metadata": {},
   "source": [
    "## sax功能模块"
   ]
  },
  {
   "cell_type": "code",
   "execution_count": 1,
   "metadata": {},
   "outputs": [],
   "source": [
    "import xml.sax\n",
    "# help(xml.sax)"
   ]
  },
  {
   "cell_type": "markdown",
   "metadata": {},
   "source": [
    "### sax API结构\n",
    "\n",
    "sax提供四个模块来处理xml：\n",
    "       \n",
    "        xml.sax.xmlreader    — xml的解析接口规范，抽象的，需要继承实现才能使用。\n",
    "        xml.sax.handler       — 回调处理器，如果与xmlreader绑定，当满足xml条件就会被调用，用来处理具体的xml内容。\n",
    "        xml.sax.saxutils       — 一些数据处理工具，比如实体转换什么的。\n",
    "        \n",
    "        xml.parsers.expat     — xmlreader的具体实现，可以直接使用。也可以使用parse函数直接解析，或者使用make_parser返回解析器，或者直接构造ExpatParser解析器使用。【见下面例子】\n",
    "        \n",
    "下面对核心模块xmlreader与handler进一步说明。"
   ]
  },
  {
   "cell_type": "markdown",
   "metadata": {},
   "source": [
    "####  xmlreader API结构\n",
    "        \n",
    "        提供如下几个类实现数据分析：\n",
    "                |- AttributesImpl\n",
    "                        |- AttributesNSImpl\n",
    "                |- InputSource\n",
    "                |- Locator\n",
    "                |- XMLReader\n",
    "                        |- IncrementalParser"
   ]
  },
  {
   "cell_type": "markdown",
   "metadata": {},
   "source": [
    "#### handler API结构\n",
    "\n",
    "        提供4个Handler来处理xml内容。\n",
    "                |-  ContentHandler\n",
    "                |-  DTDHandler\n",
    "                |-  EntityResolver\n",
    "                |-  ErrorHandler"
   ]
  },
  {
   "cell_type": "markdown",
   "metadata": {},
   "source": [
    "### sax解析器的三种使用方式"
   ]
  },
  {
   "cell_type": "markdown",
   "metadata": {},
   "source": [
    "#### sax编程模式"
   ]
  },
  {
   "cell_type": "code",
   "execution_count": 2,
   "metadata": {},
   "outputs": [
    {
     "name": "stdout",
     "output_type": "stream",
     "text": [
      "setDocumentLocator\n",
      "startDocument\n",
      "startElement\n",
      "characters\n",
      "characters\n",
      "startElement\n",
      "characters\n",
      "endElement\n",
      "characters\n",
      "characters\n",
      "startElement\n",
      "characters\n",
      "endElement\n",
      "characters\n",
      "characters\n",
      "startElement\n",
      "characters\n",
      "endElement\n",
      "characters\n",
      "characters\n",
      "startElement\n",
      "characters\n",
      "endElement\n",
      "characters\n",
      "endElement\n",
      "endDocument\n"
     ]
    }
   ],
   "source": [
    "# coding = utf-8\n",
    "import xml.sax.handler\n",
    "\n",
    "\n",
    "class MyHandler(xml.sax.handler.ContentHandler, xml.sax.handler.DTDHandler):\n",
    "    def setDocumentLocator(self, locator):\n",
    "        print('setDocumentLocator')\n",
    "\n",
    "    def startDocument(self):\n",
    "        print('startDocument')\n",
    "\n",
    "    def endDocument(self):\n",
    "        print('endDocument')\n",
    "\n",
    "    def startPrefixMapping(self, prefix, uri):\n",
    "        print('startPrefixMapping')\n",
    "\n",
    "    def endPrefixMapping(self, prefix):\n",
    "        print('endPrefixMapping')\n",
    "\n",
    "    def startElement(self, name, attrs):\n",
    "        print('startElement')\n",
    "\n",
    "    def endElement(self, name):\n",
    "        print('endElement')\n",
    "\n",
    "    def startElementNS(self, name, qname, attrs):\n",
    "        print('startElementNS')\n",
    "\n",
    "    def endElementNS(self, name, qname):\n",
    "        print('endElementNS')\n",
    "\n",
    "    def characters(self, content):\n",
    "        print('characters')\n",
    "\n",
    "    def ignorableWhitespace(self, whitespace):\n",
    "        print('ignorableWhitespace')\n",
    "\n",
    "    def processingInstruction(self, target, data):\n",
    "        print('processingInstruction')\n",
    "\n",
    "    def skippedEntity(self, name):\n",
    "        print('skippedEntity')\n",
    "\n",
    "    def notationDecl(self, name, publicId, systemId):\n",
    "        print('notationDecl')\n",
    "\n",
    "    def unparsedEntityDecl(self, name, publicId, systemId, ndata):\n",
    "        print('unparsedEntityDecl')\n",
    "\n",
    "\n",
    "class MyError(xml.sax.ErrorHandler):\n",
    "\n",
    "    def error(self, exception):\n",
    "        print('error')\n",
    "        return super().error(exception)\n",
    "\n",
    "    def fatalError(self, exception):\n",
    "        print('fatalError')\n",
    "        return super().fatalError(exception)\n",
    "\n",
    "    def warning(self, exception):\n",
    "        print('warning')\n",
    "        super().warning(exception)\n",
    "\n",
    "\n",
    "xml.sax.parse(\n",
    "    source='codes/note.xml',\n",
    "    handler=MyHandler(),\n",
    "    errorHandler=MyError())\n"
   ]
  },
  {
   "cell_type": "markdown",
   "metadata": {},
   "source": [
    "#### 构造parser       \n",
    "\n",
    "    注意：不能直接构造XMLReader，而是使用工厂模式函数：xml.sax.make_parser()来产生parser，要么直接调用parse函数解析处理xml。\n",
    "    \n",
    "    XMLReader是xml解析的接口规范，其实现就是：xml.sax.expatreader.ExpatParser"
   ]
  },
  {
   "cell_type": "code",
   "execution_count": 3,
   "metadata": {},
   "outputs": [
    {
     "name": "stdout",
     "output_type": "stream",
     "text": [
      "<xml.sax.expatreader.ExpatParser object at 0x103f92160>\n",
      "setDocumentLocator\n"
     ]
    }
   ],
   "source": [
    "# coding = utf-8\n",
    "import xml.sax.handler\n",
    "import xml.sax.xmlreader\n",
    "\n",
    "class MyHandler(xml.sax.handler.ContentHandler,xml.sax.handler.DTDHandler):\n",
    "    def setDocumentLocator(self, locator):\n",
    "        print('setDocumentLocator')\n",
    "\n",
    "class MyError(xml.sax.ErrorHandler):\n",
    "\n",
    "    def error(self, exception):\n",
    "        print('error')\n",
    "        return super().error(exception)\n",
    "\n",
    "'''\n",
    "xml.sax.parse(\n",
    "    source='books.xml',\n",
    "    handler=MyHandler(),\n",
    "    errorHandler=MyError())\n",
    "'''\n",
    "handler = MyHandler()\n",
    "error = MyError()\n",
    "parser = xml.sax.make_parser()\n",
    "print(parser)\n",
    "parser.setContentHandler(handler)\n",
    "parser.setErrorHandler(error)\n",
    "parser.setDTDHandler(handler)\n",
    "parser.parse('codes/note.xml')\n"
   ]
  },
  {
   "cell_type": "markdown",
   "metadata": {},
   "source": [
    "#### ExpatParser的使用\n",
    "    \n",
    "    ExpatParser实现的接口类：\n",
    "    class ExpatParser(xml.sax.xmlreader.IncrementalParser, xml.sax.xmlreader.Locator)\n",
    "    直接"
   ]
  },
  {
   "cell_type": "code",
   "execution_count": 4,
   "metadata": {},
   "outputs": [
    {
     "name": "stdout",
     "output_type": "stream",
     "text": [
      "<xml.sax.expatreader.ExpatParser object at 0x103f9cbe0>\n",
      "setDocumentLocator\n"
     ]
    }
   ],
   "source": [
    "# coding = utf-8\n",
    "import xml.sax.handler\n",
    "import xml.sax.xmlreader\n",
    "import xml.sax.expatreader\n",
    "\n",
    "\n",
    "class MyHandler(xml.sax.handler.ContentHandler,xml.sax.handler.DTDHandler):\n",
    "    def setDocumentLocator(self, locator):\n",
    "        print('setDocumentLocator')\n",
    "\n",
    "\n",
    "\n",
    "class MyError(xml.sax.ErrorHandler):\n",
    "\n",
    "    def error(self, exception):\n",
    "        print('error')\n",
    "        return super().error(exception)\n",
    "\n",
    "'''\n",
    "xml.sax.parse(\n",
    "    source='books.xml',\n",
    "    handler=MyHandler(),\n",
    "    errorHandler=MyError())\n",
    "'''\n",
    "handler = MyHandler()\n",
    "error = MyError()\n",
    "# parser = xml.sax.make_parser()\n",
    "parser = xml.sax.expatreader.ExpatParser(namespaceHandling=True)\n",
    "print(parser)\n",
    "parser.setContentHandler(handler)\n",
    "parser.setErrorHandler(error)\n",
    "parser.setDTDHandler(handler)\n",
    "parser.parse('codes/note.xml')\n"
   ]
  },
  {
   "cell_type": "markdown",
   "metadata": {},
   "source": [
    "### handler的使用\n",
    "\n",
    "    对DTDHandler这里不说明，"
   ]
  },
  {
   "cell_type": "markdown",
   "metadata": {},
   "source": [
    "#### Locator的使用\n",
    "    \n",
    "        Locator是文档定位，其实现类是ExpatLocator类。\n",
    "            |-  xml.sax.xmlreader.Locator(builtins.object)\n",
    "                    |-  xml.sax.expatreader.ExpatLocator\n",
    "        \n",
    "        该类使用是个函数提供四个信息：\n",
    "             |  - getColumnNumber(self)     xml当前列数\n",
    "             |  - getLineNumber(self)          xml当前行数\n",
    "             |  - getPublicId(self)                xml的public ID：在Python中通常是None\n",
    "             |  - getSystemId(self)              xml的system ID：通常就是xml文件\n",
    "\n",
    "\n"
   ]
  },
  {
   "cell_type": "code",
   "execution_count": 5,
   "metadata": {},
   "outputs": [
    {
     "name": "stdout",
     "output_type": "stream",
     "text": [
      "system ID：codes/web.xml\n",
      "public ID：None\n",
      "行列位置(1,0)\n"
     ]
    }
   ],
   "source": [
    "# coding = utf-8\n",
    "import xml.sax.expatreader\n",
    "\n",
    "\n",
    "class MyHandler(xml.sax.handler.ContentHandler):\n",
    "    def setDocumentLocator(self, locator):\n",
    "        print(f'system ID：{locator.getSystemId()}')\n",
    "        print(f'public ID：{locator.getPublicId()}')\n",
    "        print('行列位置(%d,%d)' % (locator.getLineNumber(),locator.getColumnNumber()))\n",
    "\n",
    "\n",
    "handler = MyHandler()\n",
    "error = xml.sax.ErrorHandler()\n",
    "\n",
    "parser = xml.sax.expatreader.ExpatParser(namespaceHandling=True)\n",
    "parser.setContentHandler(handler)\n",
    "parser.setErrorHandler(error)\n",
    "parser.setDTDHandler(handler)\n",
    "parser.parse('codes/web.xml')\n"
   ]
  },
  {
   "cell_type": "markdown",
   "metadata": {},
   "source": [
    "#### startDocument与endDocument的文档解析事件函数\n",
    "        \n",
    "        在文档解析开始的时候触发解析事件函数：startDocument，在文档解析结束的时候触发解析事件函数：endDocument。\n"
   ]
  },
  {
   "cell_type": "code",
   "execution_count": 6,
   "metadata": {},
   "outputs": [
    {
     "name": "stdout",
     "output_type": "stream",
     "text": [
      "开始文档解析\n",
      "文档解析结束\n"
     ]
    }
   ],
   "source": [
    "# coding = utf-8\n",
    "import xml.sax.expatreader\n",
    "\n",
    "\n",
    "class MyHandler(xml.sax.handler.ContentHandler):\n",
    "\n",
    "    def startDocument(self):\n",
    "        print('开始文档解析')\n",
    "\n",
    "    def endDocument(self):\n",
    "        print('文档解析结束')\n",
    "\n",
    "\n",
    "handler = MyHandler()\n",
    "error = xml.sax.ErrorHandler()\n",
    "\n",
    "parser = xml.sax.expatreader.ExpatParser(namespaceHandling=True)\n",
    "parser.setContentHandler(handler)\n",
    "parser.setErrorHandler(error)\n",
    "parser.setDTDHandler(handler)\n",
    "parser.parse('codes/books.xml')\n"
   ]
  },
  {
   "cell_type": "markdown",
   "metadata": {},
   "source": [
    "#### startElement与endElement元素解析事件函数        \n",
    "    \n",
    "        startElement函数在每个元素开始前触发。     \n",
    "        endElement函数在每个元素结束后触发。     \n",
    "        函数的原型如下：   \n",
    "            |- def startElement(self, name, attrs):      \n",
    "                    |-  name：类型是字符串str，表示元素名。    \n",
    "                    |-  attrs：类型是xml.sax.xmlreader.AttributesImpl，表示元素的所有属性。    \n",
    "            \n",
    "            |- def endElement(self, name):    \n",
    "            \n",
    "       \n",
    "         其中attrs是属性列表，本质是一个字典，还有一些其他成员，可以使用帮助方式查看。\n",
    "         "
   ]
  },
  {
   "cell_type": "code",
   "execution_count": 7,
   "metadata": {},
   "outputs": [
    {
     "name": "stdout",
     "output_type": "stream",
     "text": [
      "元素解析开始，元素名： books\n",
      "<class 'xml.sax.xmlreader.AttributesImpl'> <class 'str'>\n",
      "属性数：0\n",
      "元素解析开始，元素名： book\n",
      "<class 'xml.sax.xmlreader.AttributesImpl'> <class 'str'>\n",
      "属性数：1\n",
      "属性名：category，属性值：Python\n",
      "元素解析开始，元素名： title\n",
      "<class 'xml.sax.xmlreader.AttributesImpl'> <class 'str'>\n",
      "属性数：1\n",
      "属性名：lang，属性值：zh\n",
      "元素解析结束，元素名： title\n",
      "元素解析开始，元素名： author\n",
      "<class 'xml.sax.xmlreader.AttributesImpl'> <class 'str'>\n",
      "属性数：0\n",
      "元素解析结束，元素名： author\n",
      "元素解析开始，元素名： year\n",
      "<class 'xml.sax.xmlreader.AttributesImpl'> <class 'str'>\n",
      "属性数：0\n",
      "元素解析结束，元素名： year\n",
      "元素解析开始，元素名： price\n",
      "<class 'xml.sax.xmlreader.AttributesImpl'> <class 'str'>\n",
      "属性数：0\n",
      "元素解析结束，元素名： price\n",
      "元素解析开始，元素名： publisher\n",
      "<class 'xml.sax.xmlreader.AttributesImpl'> <class 'str'>\n",
      "属性数：0\n",
      "元素解析结束，元素名： publisher\n",
      "元素解析结束，元素名： book\n",
      "元素解析开始，元素名： book\n",
      "<class 'xml.sax.xmlreader.AttributesImpl'> <class 'str'>\n",
      "属性数：1\n",
      "属性名：category，属性值：系统运维\n",
      "元素解析开始，元素名： title\n",
      "<class 'xml.sax.xmlreader.AttributesImpl'> <class 'str'>\n",
      "属性数：1\n",
      "属性名：lang，属性值：zh\n",
      "元素解析结束，元素名： title\n",
      "元素解析开始，元素名： author\n",
      "<class 'xml.sax.xmlreader.AttributesImpl'> <class 'str'>\n",
      "属性数：0\n",
      "元素解析结束，元素名： author\n",
      "元素解析开始，元素名： year\n",
      "<class 'xml.sax.xmlreader.AttributesImpl'> <class 'str'>\n",
      "属性数：0\n",
      "元素解析结束，元素名： year\n",
      "元素解析开始，元素名： price\n",
      "<class 'xml.sax.xmlreader.AttributesImpl'> <class 'str'>\n",
      "属性数：0\n",
      "元素解析结束，元素名： price\n",
      "元素解析开始，元素名： publisher\n",
      "<class 'xml.sax.xmlreader.AttributesImpl'> <class 'str'>\n",
      "属性数：0\n",
      "元素解析结束，元素名： publisher\n",
      "元素解析结束，元素名： book\n",
      "元素解析开始，元素名： book\n",
      "<class 'xml.sax.xmlreader.AttributesImpl'> <class 'str'>\n",
      "属性数：1\n",
      "属性名：category，属性值：区块链\n",
      "元素解析开始，元素名： title\n",
      "<class 'xml.sax.xmlreader.AttributesImpl'> <class 'str'>\n",
      "属性数：1\n",
      "属性名：lang，属性值：en\n",
      "元素解析结束，元素名： title\n",
      "元素解析开始，元素名： author\n",
      "<class 'xml.sax.xmlreader.AttributesImpl'> <class 'str'>\n",
      "属性数：0\n",
      "元素解析结束，元素名： author\n",
      "元素解析开始，元素名： year\n",
      "<class 'xml.sax.xmlreader.AttributesImpl'> <class 'str'>\n",
      "属性数：0\n",
      "元素解析结束，元素名： year\n",
      "元素解析开始，元素名： price\n",
      "<class 'xml.sax.xmlreader.AttributesImpl'> <class 'str'>\n",
      "属性数：0\n",
      "元素解析结束，元素名： price\n",
      "元素解析开始，元素名： publisher\n",
      "<class 'xml.sax.xmlreader.AttributesImpl'> <class 'str'>\n",
      "属性数：0\n",
      "元素解析结束，元素名： publisher\n",
      "元素解析结束，元素名： book\n",
      "元素解析结束，元素名： books\n"
     ]
    }
   ],
   "source": [
    "# coding = utf-8\n",
    "import xml.sax.expatreader\n",
    "\n",
    "\n",
    "class MyHandler(xml.sax.handler.ContentHandler):\n",
    "\n",
    "    def startElement(self, name, attrs):\n",
    "        print('元素解析开始，元素名：', name)\n",
    "        # attrs是属性列表\n",
    "        print(type(attrs), type(name))\n",
    "        # 属性列表\n",
    "        print('属性数：%d' % attrs.getLength())\n",
    "        for item in attrs.items():\n",
    "            print('属性名：%s，属性值：%s' % item)\n",
    "\n",
    "\n",
    "    def endElement(self, name):\n",
    "        print('元素解析结束，元素名：', name)\n",
    "\n",
    "\n",
    "handler = MyHandler()\n",
    "error = xml.sax.ErrorHandler()\n",
    "\n",
    "# namespaceHandling 对具有命名空间的元素处理，没有命名空间设置围为0。\n",
    "parser = xml.sax.expatreader.ExpatParser(namespaceHandling=0)\n",
    "parser.setContentHandler(handler)\n",
    "parser.setErrorHandler(error)\n",
    "parser.setDTDHandler(handler)\n",
    "parser.parse('codes/books.xml')\n"
   ]
  },
  {
   "cell_type": "markdown",
   "metadata": {},
   "source": [
    "#### characters文本解析事件函数\n",
    "\n",
    "        函数原型是：characters(self, content)\n",
    "            参数：content是文本内容。"
   ]
  },
  {
   "cell_type": "code",
   "execution_count": 8,
   "metadata": {},
   "outputs": [
    {
     "name": "stdout",
     "output_type": "stream",
     "text": [
      "b'\\n'\n",
      "b'    '\n",
      "b'Tove'\n",
      "b'\\n'\n",
      "b'    '\n",
      "b'Jani'\n",
      "b'\\n'\n",
      "b'    '\n",
      "b'Reminder'\n",
      "b'\\n'\n",
      "b'    '\n",
      "b\"Don't forget me this weekend!\"\n",
      "b'\\n'\n"
     ]
    }
   ],
   "source": [
    "# coding = utf-8\n",
    "import xml.sax.expatreader\n",
    "\n",
    "\n",
    "class MyHandler(xml.sax.handler.ContentHandler):\n",
    "\n",
    "    def characters(self, content):\n",
    "        # 为了看见所有的字符，下面输出采用子节序列。\n",
    "        # 下面的文本包含所有元素结束的换行字符。\n",
    "        print(content.encode('utf-8'))\n",
    "\n",
    "\n",
    "handler = MyHandler()\n",
    "error = xml.sax.ErrorHandler()\n",
    "\n",
    "# namespaceHandling 对具有命名空间的元素处理，没有命名空间设置围为0。\n",
    "parser = xml.sax.expatreader.ExpatParser(namespaceHandling=0)\n",
    "parser.setContentHandler(handler)\n",
    "parser.setErrorHandler(error)\n",
    "parser.setDTDHandler(handler)\n",
    "parser.parse('codes/note.xml')\n"
   ]
  },
  {
   "cell_type": "markdown",
   "metadata": {},
   "source": [
    "#### startElementNS与endElementNS带命名空间名的元素解析事件函数\n",
    "\n",
    "        startElementNS(self, name, qname, attrs)\n",
    "            |- qname：命名空间，qname是qualified name 的简写，比如：<song:id>。\n",
    "            |- name：与startElement不同，这里是一个元组，格式如下：(uri, localname)\n",
    "            \n",
    "            "
   ]
  },
  {
   "cell_type": "code",
   "execution_count": 9,
   "metadata": {},
   "outputs": [
    {
     "name": "stdout",
     "output_type": "stream",
     "text": [
      "('http://www.example.org/athena', 'body') None\n",
      "('http://www.example.org/athena', 'id') None\n",
      "结束： ('http://www.example.org/athena', 'id')\n",
      "('http://www.example.org/athena', 'name') None\n",
      "结束： ('http://www.example.org/athena', 'name')\n",
      "('http://www.example.org/athena', 'birthday') None\n",
      "结束： ('http://www.example.org/athena', 'birthday')\n",
      "结束： ('http://www.example.org/athena', 'body')\n"
     ]
    }
   ],
   "source": [
    "# coding = utf-8\n",
    "import xml.sax.expatreader\n",
    "\n",
    "\n",
    "class MyHandler(xml.sax.handler.ContentHandler):\n",
    "\n",
    "    def startElementNS(self, name, qname, attrs):\n",
    "        print(name, qname)\n",
    "    def endElementNS(self, name, qname):\n",
    "        print('结束：', name)\n",
    "    \n",
    "\n",
    "\n",
    "handler = MyHandler()\n",
    "error = xml.sax.ErrorHandler()\n",
    "\n",
    "# namespaceHandling 对具有命名空间的元素处理，没有命名空间设置围为0。\n",
    "parser = xml.sax.expatreader.ExpatParser(namespaceHandling=True)\n",
    "parser.setContentHandler(handler)\n",
    "parser.setErrorHandler(error)\n",
    "parser.setDTDHandler(handler)\n",
    "parser.parse('codes/song.xml')\n"
   ]
  },
  {
   "cell_type": "markdown",
   "metadata": {},
   "source": [
    "#### startPrefixMapping与endPrefixMapping解析事件函数\n",
    "        \n",
    "        命名空间前缀映射解析事件。\n",
    "        startPrefixMapping(self, prefix, uri):\n",
    "            |- prefix ：前缀\n",
    "            |- uri：uri\n",
    "            "
   ]
  },
  {
   "cell_type": "code",
   "execution_count": 10,
   "metadata": {},
   "outputs": [
    {
     "name": "stdout",
     "output_type": "stream",
     "text": [
      "song http://www.example.org/athena\n",
      "xsi http://www.w3.org/2001/XMLSchema-instance\n",
      "xsi\n",
      "song\n"
     ]
    }
   ],
   "source": [
    "# coding = utf-8\n",
    "import xml.sax.expatreader\n",
    "\n",
    "\n",
    "class MyHandler(xml.sax.handler.ContentHandler):\n",
    "\n",
    "\n",
    "    def startPrefixMapping(self, prefix, uri):\n",
    "        print(prefix, uri)\n",
    "\n",
    "    def endPrefixMapping(self, prefix):\n",
    "        print(prefix)\n",
    "\n",
    "\n",
    "handler = MyHandler()\n",
    "error = xml.sax.ErrorHandler()\n",
    "\n",
    "# namespaceHandling 对具有命名空间的元素处理，没有命名空间设置围为0。\n",
    "parser = xml.sax.expatreader.ExpatParser(namespaceHandling=True)\n",
    "parser.setContentHandler(handler)\n",
    "parser.setErrorHandler(error)\n",
    "parser.setDTDHandler(handler)\n",
    "parser.parse('codes/song.xml')\n"
   ]
  },
  {
   "cell_type": "markdown",
   "metadata": {},
   "source": [
    "#### 其他\n",
    "    \n",
    "        还有一些其他事件函数，这里不详细解释。比如：\n",
    "        processingInstruction(self, target, data)函数就是处理'<?xml version=\"1.0\" encoding=\"UTF-8\"?>'。但实际不触发该函数。"
   ]
  },
  {
   "cell_type": "markdown",
   "metadata": {},
   "source": [
    "注意：\n",
    "    SAX解析处理XML比较麻烦，我们都不直接使用，这里只是说明xml的处理底层细节。\n",
    "    \n",
    "总结：\n",
    "    sax模块结构分成两个标准接口定义：handler与xmlreader，一个实现模块expatreader，一个工具模块saxutils。"
   ]
  },
  {
   "cell_type": "markdown",
   "metadata": {},
   "source": [
    "## dom功能模块"
   ]
  },
  {
   "cell_type": "markdown",
   "metadata": {},
   "source": [
    "### dom API结构"
   ]
  },
  {
   "cell_type": "markdown",
   "metadata": {},
   "source": [
    "查看xml.dom模块，可以看到xml.dom的API结构如下。\n",
    "    \n",
    "        NodeFilter             # NodeFilter接口，仅仅提供常量定义\n",
    "        domreg                 # 不直接使用，提供DOM实现访问接口。\n",
    "        expatbuilder          # \n",
    "        minicompat\n",
    "        minidom                # dom的实现方式之一\n",
    "        pulldom                 # dom的实现方式之二\n",
    "        xmlbuilder\n",
    "    定义了Node结构\n",
    "        Node\n",
    "        UserDataHandler\n",
    "\n"
   ]
  },
  {
   "cell_type": "markdown",
   "metadata": {},
   "source": [
    "#### domreg  \n",
    "        \n",
    "        两个核心函数获取与注册实现工厂。\n",
    "        \n",
    "            getDOMImplementation(name=None, features=())    # 得到DOM实现\n",
    "            registerDOMImplementation(name, factory)            # 注册DOM实现（需要自己实现一个DOMImplementation接口，并注册）\n",
    "    \n",
    "        提供两个数据：\n",
    "            registered = {}\n",
    "            well_known_implementations = {'4DOM': 'xml.dom.DOMImplementation', 'mi...\n",
    "        "
   ]
  },
  {
   "cell_type": "code",
   "execution_count": 11,
   "metadata": {},
   "outputs": [
    {
     "name": "stdout",
     "output_type": "stream",
     "text": [
      "{'minidom': 'xml.dom.minidom', '4DOM': 'xml.dom.DOMImplementation'}\n",
      "{}\n",
      "<xml.dom.minidom.DOMImplementation object at 0x103fc7a58>\n"
     ]
    }
   ],
   "source": [
    "import xml.dom\n",
    "import xml.dom.domreg\n",
    "\n",
    "# 数据\n",
    "print(xml.dom.domreg.well_known_implementations)\n",
    "print(xml.dom.domreg.registered)\n",
    "\n",
    "mini_dom = xml.dom.domreg.getDOMImplementation(name='minidom')\n",
    "# '4DOM'没有提供实现，下面代码会产生异常。\n",
    "# four_dom = xml.dom.domreg.getDOMImplementation(name='4DOM')\n",
    "print(mini_dom)\n",
    "# print(four_dom)\n"
   ]
  },
  {
   "cell_type": "markdown",
   "metadata": {},
   "source": [
    "#### minidom模块\n",
    "\n",
    "        该模块使用help可以得到帮助，该模块下提供三个函数，负责启动解析工作。\n",
    "            |- getDOMImplementation(features=None)\n",
    "            |- parse(file, parser=None, bufsize=None)\n",
    "                    |-  返回document对象\n",
    "            |- parseString(string, parser=None)\n",
    "                    \n",
    "        \n",
    "        同时提供对DOM对象的封装：\n",
    "            |-   builtins.object\n",
    "                        |-  Childless\n",
    "                                |-  CharacterData(Childless, Node)\n",
    "                                |        |-  Comment\n",
    "                                |        |-  Text\n",
    "                                |                |-  CDATASection\n",
    "                                |-  ProcessingInstruction(Childless, Node)\n",
    "            |-  ElementInfo\n",
    "            |-  Identified\n",
    "                    |-  DocumentType(Identified, Childless, Node)\n",
    "                    |-  Entity(Identified, Node)\n",
    "                    |-  Notation(Identified, Childless, Node)\n",
    "            |-  NamedNodeMap\n",
    "            |-  ReadOnlySequentialNamedNodeMap\n",
    "            |-  TypeInfo\n",
    "        \n",
    "        \n",
    "            节点对象：\n",
    "            |-  xml.dom.Node(builtins.object)\n",
    "                    |-  Node\n",
    "                            |-  Attr\n",
    "                            |-  Document(Node, xml.dom.xmlbuilder.DocumentLS)\n",
    "                            |-  DocumentFragment\n",
    "                            |-  Element\n",
    "            \n",
    "            DOM解析实现：\n",
    "            xml.dom.xmlbuilder.DOMImplementationLS(builtins.object)\n",
    "                    |-  DOMImplementation\n",
    "\n",
    "    具体每个接口的接口函数，可以通过help与dir查看到帮助。\n"
   ]
  },
  {
   "cell_type": "code",
   "execution_count": 12,
   "metadata": {},
   "outputs": [
    {
     "name": "stdout",
     "output_type": "stream",
     "text": [
      "<xml.dom.minidom.Document object at 0x103fd8468>\n"
     ]
    }
   ],
   "source": [
    "import xml.dom\n",
    "import xml.dom.minidom\n",
    "import xml.sax\n",
    "\n",
    "dom = xml.dom.minidom.parse(\n",
    "    'note.xml',\n",
    "    # parser=None,    # parser = xml.sax.make_parser()或者ExpatParser对象\n",
    "    parser=xml.sax.make_parser(),\n",
    "    bufsize=1024*10)\n",
    "print(dom)\n"
   ]
  },
  {
   "cell_type": "markdown",
   "metadata": {},
   "source": [
    "#### Node与Element对象提供节点访问与遍历\n",
    "        |  appendChild(self, node)\n",
    "        |  \n",
    "        |  cloneNode(self, deep)\n",
    "        |  \n",
    "        |  getInterface(self, feature)\n",
    "        |  \n",
    "        |  getUserData(self, key)\n",
    "        |  \n",
    "        |  hasChildNodes(self)\n",
    "        |  \n",
    "        |  insertBefore(self, newChild, refChild)\n",
    "        |  \n",
    "        |  isSameNode(self, other)\n",
    "        |  \n",
    "        |  isSupported(self, feature, version)\n",
    "        |  \n",
    "        |  normalize(self)\n",
    "        |  \n",
    "        |  removeChild(self, oldChild)\n",
    "        |  \n",
    "        |  replaceChild(self, newChild, oldChild)\n",
    "        |  \n",
    "        |  setUserData(self, key, data, handler)\n",
    "        |  \n",
    "        |  toprettyxml(self, indent='\\t', newl='\\n', encoding=None)\n",
    "        |  \n",
    "        |  toxml(self, encoding=None)\n",
    "        |  \n",
    "        |  unlink(self)"
   ]
  },
  {
   "cell_type": "code",
   "execution_count": 13,
   "metadata": {},
   "outputs": [
    {
     "name": "stdout",
     "output_type": "stream",
     "text": [
      "标签名： note\n",
      "标签名： to\n",
      "文本： Tove\n",
      "标签名： from\n",
      "文本： Jani\n",
      "标签名： heading\n",
      "文本： Reminder\n",
      "标签名： body\n",
      "文本： Don't forget me this weekend!\n"
     ]
    }
   ],
   "source": [
    "import xml.dom\n",
    "import xml.dom.minidom\n",
    "import xml.sax\n",
    "\n",
    "dom = xml.dom.minidom.parse(\n",
    "    'note.xml',\n",
    "    # parser=None,    # parser = xml.sax.make_parser()或者ExpatParser对象\n",
    "    parser=xml.sax.make_parser(),\n",
    "    bufsize=1024*10)\n",
    "children = dom.childNodes\n",
    "\n",
    "\n",
    "def list_nodes(nd):\n",
    "    if nd.nodeType == xml.dom.Node.ELEMENT_NODE:\n",
    "        print(\"标签名：\", nd.tagName)\n",
    "        # print('节点名：', nd.nodeName)\n",
    "        for attr_ in nd.attributes.items():\n",
    "            print(attr_.name, attr_.value)\n",
    "\n",
    "    if nd.nodeType == xml.dom.Node.TEXT_NODE:\n",
    "        if  nd.wholeText.strip() != '':\n",
    "            print('文本：', nd.wholeText.strip())\n",
    "\n",
    "    if nd.nodeType == xml.dom.Node.ELEMENT_NODE and nd.hasChildNodes():\n",
    "        for nd_ in nd.childNodes:\n",
    "            list_nodes(nd_)\n",
    "\n",
    "\n",
    "list_nodes(children[0])\n"
   ]
  },
  {
   "cell_type": "markdown",
   "metadata": {},
   "source": [
    "Document对象提供文档创建操作\n",
    "        \n",
    "        |  appendChild(self, node)\n",
    "        |  \n",
    "        |  cloneNode(self, deep)\n",
    "        |  \n",
    "        |  createAttribute(self, qName)\n",
    "        |  \n",
    "        |  createAttributeNS(self, namespaceURI, qualifiedName)\n",
    "        |  \n",
    "        |  createCDATASection(self, data)\n",
    "        |  \n",
    "        |  createComment(self, data)\n",
    "        |  \n",
    "        |  createDocumentFragment(self)\n",
    "        |  \n",
    "        |  createElement(self, tagName)\n",
    "        |  \n",
    "        |  createElementNS(self, namespaceURI, qualifiedName)\n",
    "        |  \n",
    "        |  createProcessingInstruction(self, target, data)\n",
    "        |        \n",
    "        |  createTextNode(self, data)\n",
    "        |  \n",
    "        |  getElementById(self, id)\n",
    "        |  \n",
    "        |  getElementsByTagName(self, name)\n",
    "        |  \n",
    "        |  getElementsByTagNameNS(self, namespaceURI, localName)\n",
    "        |  \n",
    "        |  importNode(self, node, deep)\n",
    "        |  \n",
    "        |  isSupported(self, feature, version)\n",
    "        |  \n",
    "        |  removeChild(self, oldChild)\n",
    "        |  \n",
    "        |  renameNode(self, n, namespaceURI, name)\n",
    "        |  \n",
    "        |  unlink(self)\n",
    "        |  \n",
    "        |  writexml(self, writer, indent='', addindent='', newl='', encoding=None)\n",
    "        \n",
    "\n",
    "数据定义：\n",
    "\n",
    "        |  childNodes\n",
    "        |  \n",
    "        |  doctype\n",
    "        |  \n",
    "        |  documentElement\n",
    "\n",
    "        "
   ]
  },
  {
   "cell_type": "markdown",
   "metadata": {},
   "source": [
    "DocumentLS\n",
    "\n",
    "        |  abort(self)\n",
    "        |  \n",
    "        |  load(self, uri)\n",
    "        |  \n",
    "        |  loadXML(self, source)\n",
    "        |  \n",
    "        |  saveXML(self, snode)"
   ]
  },
  {
   "cell_type": "markdown",
   "metadata": {},
   "source": [
    "#### DOMImplementation接口实现\n",
    "    \n",
    "        implementation = xml.dom.minidom.getDOMImplementation()\n",
    "            |-  createDocument(self, namespaceURI, qualifiedName, doctype)\n",
    "            |  \n",
    "            |-  createDocumentType(self, qualifiedName, publicId, systemId)\n",
    "            |  \n",
    "            |-  getInterface(self, feature)\n",
    "            |  \n",
    "            |-  hasFeature(self, feature, version)\n",
    "            \n",
    "            下面的接口没有实现\n",
    "            |\n",
    "            |-  createDOMBuilder(self, mode, schemaType)\n",
    "            |  \n",
    "            |-  createDOMInputSource(self)\n",
    "            |  \n",
    "            |-  createDOMWriter(self)\n",
    "            \n",
    "  由于没有实现createDOMWriter接口，所以python中xml文件的读写使用Document对象提供的writexml函数实现。\n"
   ]
  },
  {
   "cell_type": "code",
   "execution_count": 14,
   "metadata": {},
   "outputs": [
    {
     "name": "stdout",
     "output_type": "stream",
     "text": [
      "<xml.dom.minidom.DOMImplementation object at 0x103fc7a58>\n"
     ]
    }
   ],
   "source": [
    "# coding = utf-8\n",
    "import xml.dom\n",
    "import xml.dom.minidom\n",
    "\n",
    "implementation = xml.dom.minidom.getDOMImplementation()\n",
    "print(implementation)\n",
    "doc_type = implementation.createDocumentType(\n",
    "    qualifiedName='HH',\n",
    "    publicId='-//mybatis.org//DTD Config 3.0//EN',\n",
    "    systemId='http://mybatis.org/dtd/mybatis-3-config.dtd')\n",
    "doc = implementation.createDocument(\n",
    "    namespaceURI='http://xmlns.jcp.org/xml/ns/javaee',\n",
    "    qualifiedName='HH',\n",
    "    doctype=doc_type)\n",
    "# writer = implementation.createDOMWriter()   # 没有实现，直接使用文件描述符号。\n",
    "# 创建根节点\n",
    "root_element = doc.createElement('myroot')\n",
    "attr1 = doc.createAttribute('属性')\n",
    "attr1.value = '属性值'\n",
    "root_element.setAttributeNode(attr1)\n",
    "# doc.documentElement只读，创建文档的时候唯一产生\n",
    "doc.documentElement.appendChild(root_element)\n",
    "\n",
    "# 产生文本子节点\n",
    "txt = doc.createTextNode('我是文本')\n",
    "root_element.appendChild(txt)\n",
    "\n",
    "with open('my.xml','w') as fd:\n",
    "    doc.writexml(fd,\n",
    "                 indent='\\t',\n",
    "                 addindent='\\t',\n",
    "                 newl='\\n',\n",
    "                 encoding='utf-8')\n"
   ]
  },
  {
   "cell_type": "code",
   "execution_count": 15,
   "metadata": {
    "scrolled": true
   },
   "outputs": [
    {
     "name": "stdout",
     "output_type": "stream",
     "text": [
      "<?xml version=\"1.0\" encoding=\"utf-8\"?>\n",
      "<!DOCTYPE HH\n",
      "  PUBLIC '-//mybatis.org//DTD Config 3.0//EN'\n",
      "  'http://mybatis.org/dtd/mybatis-3-config.dtd'>\n",
      "\t<HH>\n",
      "\t\t<myroot 属性=\"属性值\">我是文本</myroot>\n",
      "\t</HH>\n",
      "\n"
     ]
    }
   ],
   "source": [
    "# 下面是读取产生的xml文件\n",
    "with open('my.xml', 'r') as fd:\n",
    "    print(fd.read())"
   ]
  },
  {
   "cell_type": "markdown",
   "metadata": {},
   "source": [
    "#### 使用Document直接构造xml DOM对象\n",
    "\n",
    "        Document直接创建的对象，起产生的xml DOM不受documentURI与doctype属性影响。而且不会自动产生documentElement元素。这一点与上面createDocument函数产生的DOM是有差异的。所以建议使用上面的方式产生DOM文档。"
   ]
  },
  {
   "cell_type": "code",
   "execution_count": 16,
   "metadata": {},
   "outputs": [
    {
     "name": "stdout",
     "output_type": "stream",
     "text": [
      "<xml.dom.minidom.DOMImplementation object at 0x103fc7a58>\n"
     ]
    }
   ],
   "source": [
    "# coding = utf-8\n",
    "import xml.dom\n",
    "import xml.dom.minidom\n",
    "\n",
    "implementation = xml.dom.minidom.getDOMImplementation()\n",
    "print(implementation)\n",
    "doc_type = implementation.createDocumentType(\n",
    "    qualifiedName='HH',\n",
    "    publicId='-//mybatis.org//DTD Config 3.0//EN',\n",
    "    systemId='http://mybatis.org/dtd/mybatis-3-config.dtd')\n",
    "\n",
    "# writer = implementation.createDOMWriter()   # 没有实现，直接使用文件描述符号。\n",
    "doc = xml.dom.minidom.Document()\n",
    "doc.documentURI='http://xmlns.jcp.org/xml/ns/javaee'\n",
    "doc.doctype=doc_type\n",
    "# 创建根节点\n",
    "root_element = doc.createElement('myroot')\n",
    "attr1 = doc.createAttribute('属性')\n",
    "attr1.value = '属性值'\n",
    "root_element.setAttributeNode(attr1)\n",
    "# doc.documentElement只读，创建文档的时候唯一产生\n",
    "doc.appendChild(root_element)\n",
    "\n",
    "# 产生文本子节点\n",
    "txt = doc.createTextNode('我是文本')\n",
    "root_element.appendChild(txt)\n",
    "\n",
    "with open('your.xml','w') as fd:\n",
    "    doc.writexml(fd,\n",
    "                 indent='\\t',\n",
    "                 addindent='\\t',\n",
    "                 newl='\\n',\n",
    "                 encoding='utf-8')\n"
   ]
  },
  {
   "cell_type": "markdown",
   "metadata": {},
   "source": [
    "#### expatbuilder\n",
    "\n",
    "        提供基本的builder实现：\n",
    "                builtins.object\n",
    "                        ElementInfo\n",
    "                        ExpatBuilder\n",
    "                                FragmentBuilder\n",
    "                                InternalSubsetExtractor\n",
    "                        FilterCrutch\n",
    "                                Rejecter\n",
    "                                Skipper\n",
    "                        FilterVisibilityController\n",
    "                        Namespaces\n",
    "                                ExpatBuilderNS(Namespaces, ExpatBuilder)\n",
    "                                FragmentBuilderNS(Namespaces, FragmentBuilder)\n",
    "                                \n",
    "        核心的是ExpatBuilder类的两个成员函数：\n",
    "                parseFile(self, file)\n",
    "                        返回Document对象\n",
    "                parseString(self, string)\n",
    "                        返回Document对象。"
   ]
  },
  {
   "cell_type": "code",
   "execution_count": 17,
   "metadata": {},
   "outputs": [
    {
     "name": "stdout",
     "output_type": "stream",
     "text": [
      "[<xml.dom.minidom.DocumentType object at 0x103fe1bd0>, <DOM Element: note at 0x103f98178>]\n",
      "<DOM Element: note at 0x103f98178>\n",
      "标签名： note\n",
      "文本： \n",
      "    \n",
      "标签名： to\n",
      "文本： Tove\n",
      "文本： \n",
      "    \n",
      "标签名： from\n",
      "文本： Jani\n",
      "文本： \n",
      "    \n",
      "标签名： heading\n",
      "文本： Reminder\n",
      "文本： \n",
      "    \n",
      "标签名： body\n",
      "文本： Don't forget me this weekend!\n",
      "文本： \n",
      "\n"
     ]
    }
   ],
   "source": [
    "import xml.dom\n",
    "import xml.dom.minidom\n",
    "import xml.dom.expatbuilder\n",
    "\n",
    "builder = xml.dom.expatbuilder.ExpatBuilder()\n",
    "dom = builder.parseFile(open('note.xml', 'r'))\n",
    "children = dom.childNodes\n",
    "print(children)\n",
    "print(dom.documentElement)\n",
    "\n",
    "def list_nodes(nd):\n",
    "    if nd.nodeType == xml.dom.Node.ELEMENT_NODE:\n",
    "        print(\"标签名：\", nd.tagName)\n",
    "        # print('节点名：', nd.nodeName)\n",
    "        for attr_ in nd.attributes.items():\n",
    "            print(attr_.name, attr_.value)\n",
    "\n",
    "    if nd.nodeType == xml.dom.Node.TEXT_NODE:\n",
    "        print('文本：', nd.wholeText)\n",
    "\n",
    "    if nd.nodeType == xml.dom.Node.ELEMENT_NODE and nd.hasChildNodes():\n",
    "        for nd_ in nd.childNodes:\n",
    "            list_nodes(nd_)\n",
    "\n",
    "\n",
    "list_nodes(dom.documentElement)\n"
   ]
  },
  {
   "cell_type": "markdown",
   "metadata": {},
   "source": [
    "#### minicompat\n",
    "\n",
    "        提供了NodeList接口的定义。\n",
    "                builtins.list(builtins.object)\n",
    "                        |- NodeList\n",
    "                builtins.tuple(builtins.object)\n",
    "                        |- EmptyNodeList\n",
    "                        \n",
    "       这个接口就是所有子节点的返回类型。本质是list类型。"
   ]
  },
  {
   "cell_type": "code",
   "execution_count": 18,
   "metadata": {},
   "outputs": [
    {
     "name": "stdout",
     "output_type": "stream",
     "text": [
      "<class 'xml.dom.minicompat.NodeList'>\n"
     ]
    }
   ],
   "source": [
    "import xml.dom\n",
    "import xml.dom.minidom\n",
    "import xml.dom.expatbuilder\n",
    "\n",
    "builder = xml.dom.expatbuilder.ExpatBuilder()\n",
    "dom = builder.parseFile(open('note.xml', 'r'))\n",
    "children = dom.childNodes\n",
    "print(type(children))"
   ]
  },
  {
   "cell_type": "markdown",
   "metadata": {},
   "source": [
    "#### xmlbuilder      \n",
    "    \n",
    "        实现了DOM level-3特征。主要如下几个类：\n",
    "            builtins.object\n",
    "                    |- DOMBuilder：负责解析过程与处理。\n",
    "                    |- DOMEntityResolver：负责解析DTD中的实体。\n",
    "                    |- DOMInputSource：负责xml的数据输入。\n",
    "        这三个类相互协作解析xml数据。\n",
    "        \n",
    "        下面是一个小例子，说明它们之间的协作关系。"
   ]
  },
  {
   "cell_type": "code",
   "execution_count": 19,
   "metadata": {},
   "outputs": [
    {
     "name": "stdout",
     "output_type": "stream",
     "text": [
      "<xml.dom.minidom.Document object at 0x104002d68>\n",
      "books\n"
     ]
    }
   ],
   "source": [
    "import xml.dom\n",
    "import xml.dom.xmlbuilder\n",
    "\n",
    "builder = xml.dom.xmlbuilder.DOMBuilder()\n",
    "\n",
    "input_stream = xml.dom.xmlbuilder.DOMInputSource()\n",
    "# input_stream.encoding = 'utf-8'\n",
    "# input_stream.systemId = 'http://mybatis.org/dtd/mybatis-3-config.dtd'\n",
    "# input_stream.publicId = '-//mybatis.org//DTD Config 3.0//EN'\n",
    "input_stream.byteStream = open('codes/books.xml', 'r')\n",
    "\n",
    "result = builder.parse(input_stream)\n",
    "print(result)\n",
    "print(result.documentElement.nodeName)\n"
   ]
  },
  {
   "cell_type": "markdown",
   "metadata": {},
   "source": [
    "####  pulldom     \n",
    "        \n",
    "        提供在SAX基础上的DOM处理模型。\n",
    "                |-  builtins.object\n",
    "                        |-  DOMEventStream\n",
    "                        |-  ErrorHandler\n",
    "                |-  xml.sax.handler.ContentHandler(builtins.object)\n",
    "                        |-  PullDOM\n",
    "                                    |-  SAX2DOM\n",
    "        提供两个函数来封装DOMEventStream的处理细节。\n",
    "                |-parse(stream_or_string, parser=None, bufsize=None)\n",
    "                |\n",
    "                |- parseString(string, parser=None)\n",
    "        \n",
    "        两个函数返回DOMEventStream对象，通过getEvent返回事件命名与Document对象。"
   ]
  },
  {
   "cell_type": "code",
   "execution_count": 20,
   "metadata": {},
   "outputs": [
    {
     "name": "stdout",
     "output_type": "stream",
     "text": [
      "START_DOCUMENT\n",
      "<DOM Element: books at 0x104001a60>\n",
      "START_DOCUMENT\n"
     ]
    }
   ],
   "source": [
    "import xml.dom\n",
    "import xml.dom.pulldom\n",
    "import xml.sax.expatreader\n",
    "\n",
    "# 方式一：\n",
    "result = xml.dom.pulldom.parse('codes/books.xml')\n",
    "e, doc = result.getEvent()\n",
    "print(e)\n",
    "print(doc.documentElement)\n",
    "\n",
    "# 方式二：\n",
    "parser = xml.sax.expatreader.ExpatParser(namespaceHandling=True)\n",
    "fd = open('codes/books.xml','r')\n",
    "ds = xml.dom.pulldom.DOMEventStream(fd, parser=parser, bufsize=1024*10)\n",
    "e_, doc_ = ds.getEvent()\n",
    "print(e_)\n"
   ]
  }
 ],
 "metadata": {
  "kernelspec": {
   "display_name": "Python 3",
   "language": "python",
   "name": "python3"
  },
  "language_info": {
   "codemirror_mode": {
    "name": "ipython",
    "version": 3
   },
   "file_extension": ".py",
   "mimetype": "text/x-python",
   "name": "python",
   "nbconvert_exporter": "python",
   "pygments_lexer": "ipython3",
   "version": "3.6.6"
  },
  "toc": {
   "base_numbering": 1,
   "nav_menu": {},
   "number_sections": true,
   "sideBar": true,
   "skip_h1_title": false,
   "title_cell": "Table of Contents",
   "title_sidebar": "Contents",
   "toc_cell": false,
   "toc_position": {},
   "toc_section_display": true,
   "toc_window_display": true
  }
 },
 "nbformat": 4,
 "nbformat_minor": 2
}
