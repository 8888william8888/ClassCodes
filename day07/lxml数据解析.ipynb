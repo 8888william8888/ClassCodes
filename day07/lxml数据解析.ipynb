{
 "cells": [
  {
   "cell_type": "markdown",
   "metadata": {},
   "source": [
    "# 环境与模块介绍\n"
   ]
  },
  {
   "cell_type": "markdown",
   "metadata": {},
   "source": [
    "## 环境安装\n",
    "\n",
    "1. 命令\n",
    "\n",
    "```shell\n",
    "\n",
    "    pip install lxml\n",
    "    \n",
    "```"
   ]
  },
  {
   "cell_type": "markdown",
   "metadata": {},
   "source": [
    "## 模块介绍"
   ]
  },
  {
   "cell_type": "markdown",
   "metadata": {},
   "source": [
    "- 使用pydocs指令可以查看lxml模块的所有包\n",
    "\n",
    "```python\n",
    "\n",
    "    PACKAGE CONTENTS\n",
    "        ElementInclude        \n",
    "        _elementpath          \n",
    "        builder                   # 创建xml文档，只有一个生成器类ElementMaker\n",
    "        cssselect                # 基于css的选择器\n",
    "        doctestcompare       # xml的输出比较\n",
    "        etree                       # 使用解析器加载html与xml数据并产生dom树\n",
    "        html (package)         # 实现html处理的工具 \n",
    "        includes (package)       # 空的，暂时没有实现\n",
    "        isoschematron (package)     # 标准的xslt实现\n",
    "        objectify                            # xml的Python API实现\n",
    "        pyclasslookup                    # 用于向后兼容的实现\n",
    "        sax                                   # 基于sax的xml拷贝适配器\n",
    "        usedoctest                       # 文档测试模块，不能独立使用\n",
    "\n",
    "```"
   ]
  },
  {
   "cell_type": "markdown",
   "metadata": {},
   "source": [
    "# 解析html与xml数据"
   ]
  },
  {
   "cell_type": "markdown",
   "metadata": {},
   "source": [
    "## 加载html与xml\n",
    "\n",
    "- 使用lxml.etree模块中提供的函数，完成xml与html数据加载，加载的时候，可以指定不同的解析器。\n",
    "\n",
    "    - lxml.etree提供两种解析器\n",
    "        - XMLParser\n",
    "        - HTMLParse"
   ]
  },
  {
   "cell_type": "markdown",
   "metadata": {},
   "source": [
    "### 加载文件\n",
    "\n",
    "- 使用lxml.etree的parse函数,函数的定义如下：\n",
    "\n",
    "```python\n",
    "\n",
    "parse(source, parser=None, *, base_url=None)\n",
    "    parse(source, parser=None, base_url=None)\n",
    "    \n",
    "    Return an ElementTree object loaded with source elements.  If no parser\n",
    "    is provided as second argument, the default parser is used.\n",
    "    \n",
    "    The ``source`` can be any of the following:\n",
    "    \n",
    "    - a file name/path\n",
    "    - a file object\n",
    "    - a file-like object\n",
    "    - a URL using the HTTP or FTPotocol\n",
    "```\n",
    "\n",
    "- 说明：\n",
    "    - source指定解析的数据源，可以使用如下几种对象：\n",
    "        - 文件名\n",
    "        - 打开的文件对象\n",
    "        - 类似文件的对象（就是具有read函数的对象）\n",
    "        - url指定的网络文件名（或者资源名）\n",
    "        \n",
    "    - parser 指定解析器\n",
    "        - XMLParser\n",
    "        - HTMLParser\n",
    "    \n",
    "    - base_url指定外部实体查找资源（DTD，XSD等）的路径。（如果xml与html内部使用了相对路径的资源）\n",
    "    \n",
    "    \n",
    "    - 返回一个根节点，类型是：\n",
    "        -`lxml.etree._ElementTree`s"
   ]
  },
  {
   "cell_type": "code",
   "execution_count": 2,
   "metadata": {},
   "outputs": [
    {
     "name": "stdout",
     "output_type": "stream",
     "text": [
      "<class 'lxml.etree._ElementTree'>\n"
     ]
    }
   ],
   "source": [
    "import lxml.etree\n",
    "\n",
    "parser = lxml.etree.XMLParser()\n",
    "\n",
    "doc = lxml.etree.parse('books.xml', parser)\n",
    "print(type(doc))\n"
   ]
  },
  {
   "cell_type": "markdown",
   "metadata": {},
   "source": [
    "### 加载缓存\n",
    "\n",
    "- 使用lxml.etree的fromstring函数,函数的定义如下：\n",
    "\n",
    "```python\n",
    "\n",
    "fromstring(text, parser=None, *, base_url=None)\n",
    "    fromstring(text, parser=None, base_url=None)\n",
    "    \n",
    "    Parses an XML document or fragment from a string.  Returns the\n",
    "    root node (or the result returned by a parser target).\n",
    "    \n",
    "```\n",
    "\n",
    "\n",
    "- 说明：\n",
    "    - 其中的参数与parse函数一样，仅仅是数据来源形式不同而已。\n",
    "    - 返回类型是：\n",
    "        - `lxml.etree._Element`，与parse返回类型不同。"
   ]
  },
  {
   "cell_type": "code",
   "execution_count": 4,
   "metadata": {},
   "outputs": [
    {
     "name": "stdout",
     "output_type": "stream",
     "text": [
      "<class 'lxml.etree._Element'>\n"
     ]
    }
   ],
   "source": [
    "import lxml.etree\n",
    "\n",
    "parser = lxml.etree.XMLParser()\n",
    "\n",
    "fd = open('books.xml', 'br')\n",
    "xml_buffer = fd.read()\n",
    "fd.close()\n",
    "\n",
    "doc = lxml.etree.fromstring(xml_buffer, parser)\n",
    "print(type(doc))"
   ]
  },
  {
   "cell_type": "markdown",
   "metadata": {},
   "source": [
    "### 加载的快捷方式\n",
    "\n",
    "- 在lxml.etree中提供了两个快捷加载函数\n",
    "    - XML函数用于加载xml\n",
    "    - HTML函数用于加载html"
   ]
  },
  {
   "cell_type": "markdown",
   "metadata": {},
   "source": [
    "1. XML函数的定义\n",
    "\n",
    "```python\n",
    "\n",
    "XML(text, parser=None, *, base_url=None)\n",
    "    XML(text, parser=None, base_url=None)\n",
    "    \n",
    "    Parses an XML document or fragment from a string constant.\n",
    "    Returns the root node (or the result returned by a parser target).\n",
    "    This function can be used to embed \"XML literals\" in Python code,\n",
    "```\n",
    "\n",
    "- 说明：\n",
    "    - text 指定一段XML文本字符串；\n",
    "    - parser可以指定解析器，默认XMLParser\n",
    "    - base_url 用于指定xml中使用相对路径资源时的参考路径。\n",
    "    \n",
    "    - 返回类型是：\n",
    "        - `lxml.etree._Element`"
   ]
  },
  {
   "cell_type": "code",
   "execution_count": 6,
   "metadata": {},
   "outputs": [
    {
     "name": "stdout",
     "output_type": "stream",
     "text": [
      "<class 'lxml.etree._Element'>\n"
     ]
    }
   ],
   "source": [
    "import lxml.etree\n",
    "fd = open('books.xml', 'br')\n",
    "xml_buffer = fd.read()\n",
    "fd.close()\n",
    "\n",
    "doc = lxml.etree.XML(xml_buffer)\n",
    "print(type(doc))"
   ]
  },
  {
   "cell_type": "code",
   "execution_count": 11,
   "metadata": {},
   "outputs": [
    {
     "name": "stdout",
     "output_type": "stream",
     "text": [
      "<class 'lxml.etree._Element'>\n"
     ]
    }
   ],
   "source": [
    "import lxml.etree\n",
    "# 下面unicode编码就不需要指定unicode，声明一定第一行\n",
    "str_xml = '''<?xml version='1.0'?>\n",
    "<books id=\"0001\" name=\"马哥书库\">\n",
    "    <!--注释-->\n",
    "    <book name=\"\"><title>Python编程</title><author>赵德柱</author><year>2016</year><price>88.50</price><publisher>清华出版社</publisher></book>\n",
    "    <book>\n",
    "        <title>爬虫编程</title>\n",
    "        <author>黄金花</author>\n",
    "        <year>2018</year>\n",
    "        <price>100.00</price>\n",
    "        <publisher>水电出版社</publisher>\n",
    "    </book>\n",
    "</books>\n",
    "'''\n",
    "\n",
    "doc = lxml.etree.XML(str_xml)\n",
    "print(type(doc))"
   ]
  },
  {
   "cell_type": "markdown",
   "metadata": {},
   "source": [
    "2. HTML函数的定义\n",
    "\n",
    "```python\n",
    "HTML(text, parser=None, *, base_url=None)\n",
    "    HTML(text, parser=None, base_url=None)\n",
    "    \n",
    "    Parses an HTML document from a string constant.  Returns the root\n",
    "    node (or the result returned by a parser target).  This function\n",
    "    can be used to embed \"HTML literals\" in Python code.\n",
    "\n",
    "```\n",
    "- 说明：\n",
    "    - text 指定一段HTML文本字符串。\n",
    "    - parser可以指定解析器，默认HTMLParser\n",
    "    - base_url 用于指定xml中使用相对路径资源时的参考路径。\n",
    "    \n",
    "    - 返回类型是：\n",
    "        - `lxml.etree._Element`"
   ]
  },
  {
   "cell_type": "code",
   "execution_count": 13,
   "metadata": {},
   "outputs": [
    {
     "name": "stdout",
     "output_type": "stream",
     "text": [
      "<class 'lxml.etree._Element'>\n"
     ]
    }
   ],
   "source": [
    "import lxml.etree\n",
    "\n",
    "str_html = '''\n",
    "<!doctype html>\n",
    "<html>\n",
    "    <head>\n",
    "        <title>标题</title>\n",
    "    </head>\n",
    "    <body>正文</body>\n",
    "</html>\n",
    "\n",
    "'''\n",
    "\n",
    "doc = lxml.etree.HTML(str_html)\n",
    "print(type(doc))"
   ]
  },
  {
   "cell_type": "markdown",
   "metadata": {},
   "source": [
    "## \\_ElementTree的使用\n",
    "\n",
    "- \\_ElementTree方法很多，从数据解析的角度主要分成下面几类："
   ]
  },
  {
   "cell_type": "markdown",
   "metadata": {},
   "source": [
    "### 返回根节点\n",
    "\n",
    "- 使用`getroot`函数，函数定义如下：\n",
    "\n",
    "```\n",
    " |  getroot(self)\n",
    " |      getroot(self)\n",
    "```\n",
    "\n",
    "- 说明：\n",
    "    - 返回的是`_Element`元素"
   ]
  },
  {
   "cell_type": "code",
   "execution_count": 16,
   "metadata": {},
   "outputs": [
    {
     "name": "stdout",
     "output_type": "stream",
     "text": [
      "<class 'lxml.etree._Element'>\n"
     ]
    }
   ],
   "source": [
    "import lxml.etree\n",
    "\n",
    "parser = lxml.etree.XMLParser()\n",
    "\n",
    "doc = lxml.etree.parse('books.xml', parser)\n",
    "print(type(doc.getroot()))"
   ]
  },
  {
   "cell_type": "markdown",
   "metadata": {},
   "source": [
    "### 节点查找\n",
    "\n",
    "- 节点树提供一组find函数用于节点查找，函数定义如下：\n",
    "\n",
    "```\n",
    " |  find(self, path, namespaces)      # 返回找到的第一个\n",
    " |      find(self, path, namespaces=None)\n",
    " |      \n",
    " |  \n",
    " |  findall(self, path, namespaces)    # 返回找到的所有\n",
    " |      findall(self, path, namespaces=None)\n",
    " |      \n",
    " |  \n",
    " |  findtext(self, path, default, namespaces)  # 返回文本\n",
    " |      findtext(self, path, default=None, namespaces=None)\n",
    "\n",
    "```"
   ]
  },
  {
   "cell_type": "code",
   "execution_count": 17,
   "metadata": {},
   "outputs": [
    {
     "name": "stdout",
     "output_type": "stream",
     "text": [
      "<class 'lxml.etree._Element'> <Element title at 0x108043488>\n"
     ]
    }
   ],
   "source": [
    "import lxml.etree\n",
    "\n",
    "parser = lxml.etree.XMLParser()\n",
    "\n",
    "doc = lxml.etree.parse('books.xml', parser)\n",
    "\n",
    "node = doc.find('book/title')\n",
    "print(type(node), node)"
   ]
  },
  {
   "cell_type": "code",
   "execution_count": 18,
   "metadata": {},
   "outputs": [
    {
     "name": "stdout",
     "output_type": "stream",
     "text": [
      "<class 'list'> [<Element title at 0x108043688>, <Element title at 0x10803acc8>]\n"
     ]
    }
   ],
   "source": [
    "import lxml.etree\n",
    "\n",
    "parser = lxml.etree.XMLParser()\n",
    "\n",
    "doc = lxml.etree.parse('books.xml', parser)\n",
    "\n",
    "node = doc.findall('book/title')\n",
    "print(type(node), node)"
   ]
  },
  {
   "cell_type": "code",
   "execution_count": 32,
   "metadata": {},
   "outputs": [
    {
     "name": "stdout",
     "output_type": "stream",
     "text": [
      "<class 'str'> 爬虫编程\n"
     ]
    }
   ],
   "source": [
    "import lxml.etree\n",
    "\n",
    "parser = lxml.etree.XMLParser()\n",
    "\n",
    "doc = lxml.etree.parse('books.xml', parser)\n",
    "\n",
    "node = doc.findtext('book[@no=\"0002\"]/title')\n",
    "print(type(node), node)"
   ]
  },
  {
   "cell_type": "markdown",
   "metadata": {},
   "source": [
    "### xpath函数\n",
    "\n",
    "- xpath函数支持完全的xpath，上面的find系列函数是xpath的特列。 "
   ]
  },
  {
   "cell_type": "code",
   "execution_count": 35,
   "metadata": {},
   "outputs": [
    {
     "name": "stdout",
     "output_type": "stream",
     "text": [
      "<class 'list'> ['爬虫编程']\n",
      "<class 'list'> ['0001', '0002']\n"
     ]
    }
   ],
   "source": [
    "import lxml.etree\n",
    "\n",
    "parser = lxml.etree.XMLParser()\n",
    "\n",
    "doc = lxml.etree.parse('books.xml', parser)\n",
    "\n",
    "node = doc.xpath('book[@no=\"0002\"]/title/text()')\n",
    "print(type(node), node)\n",
    "node = doc.xpath('book/@*')\n",
    "print(type(node), node)"
   ]
  },
  {
   "cell_type": "markdown",
   "metadata": {},
   "source": [
    "## \\_Element的使用"
   ]
  },
  {
   "cell_type": "markdown",
   "metadata": {},
   "source": [
    "### 节点基本属性\n",
    "\n",
    "- 一般节点的属性包括\n",
    "    - 节点名 ：\n",
    "    - 节点的属性：\n",
    "    - 节点的文本：\n",
    "    - 父子节点与兄弟节点访问：\n",
    "\n",
    "- 可以使用节点的属性来访问到的节点属性：\n",
    "    - attrib：属性字典\n",
    "    - tag：节点名\n",
    "    - text：节点文本\n",
    "    \n",
    "- 也可以使用函数访问：\n",
    "    - `get(self, key, default)`  :访问属性\n",
    "    - `getchildren(self)`  ：访问子节点\n",
    "    - `getnext(self)`   ：访问下一个兄弟节点\n",
    "    - `getparent(self)`   ： 访问父节点\n",
    "    - `getprevious(self)`  ： 访问前一个兄弟节点\n",
    "    \n",
    "    - `items(self)`    ： 所有属性\n",
    "    - `keys(self)`     ： 所有属性名\n",
    "    - `values(self)`   ： 所有属性值\n",
    "\n",
    "- 节点支持的运算符\n",
    "    - 下标运算\n",
    "    - len运算\n",
    "    - 迭代器运算"
   ]
  },
  {
   "cell_type": "code",
   "execution_count": 37,
   "metadata": {},
   "outputs": [
    {
     "name": "stdout",
     "output_type": "stream",
     "text": [
      "<class 'list'> [<Element title at 0x10804af88>, <Element title at 0x1080573c8>]\n",
      "title\n",
      "Python编程\n",
      "{'no': '0001'}\n"
     ]
    }
   ],
   "source": [
    "import lxml.etree\n",
    "\n",
    "parser = lxml.etree.XMLParser()\n",
    "\n",
    "doc = lxml.etree.parse('books.xml', parser)\n",
    "\n",
    "root = doc.getroot()\n",
    "\n",
    "node = root.xpath('book/title')\n",
    "print(type(node), node)\n",
    "\n",
    "print(node[0].tag)\n",
    "print(node[0].text)\n",
    "print(node[0].getparent().attrib)"
   ]
  },
  {
   "cell_type": "markdown",
   "metadata": {},
   "source": [
    "### XPATH查找\n",
    "\n",
    "- xpath查找包含find系列函数与xpath函数\n",
    "    - `find(self, path, namespaces)`\n",
    "    - `findall(self, path, namespaces)`\n",
    "    - `findtext(self, path, default, namespaces)`\n",
    "    - `xpath(self, _path, *, namespaces, extensions, smart_strings, **_variables)`\n",
    "\n",
    "- 还提供生成器返回结果\n",
    "    - `iter(self, tag, *tags)`\n",
    "    - `iterancestors(self, tag, *tags)`\n",
    "    - `iterchildren(self, tag, *tags, reversed)`\n",
    "    - `iterdescendants(self, tag, *tags)`\n",
    "    - `iterfind(self, path, namespaces)`\n",
    "    - `itersiblings(self, tag, *tags, preceding)`\n",
    "    - `itertext(self, tag, *tags, with_tail)`\n",
    "    - ``"
   ]
  },
  {
   "cell_type": "code",
   "execution_count": 38,
   "metadata": {},
   "outputs": [
    {
     "name": "stdout",
     "output_type": "stream",
     "text": [
      "<class 'lxml.etree.SiblingsIterator'> [<Element book at 0x108057448>]\n"
     ]
    }
   ],
   "source": [
    "import lxml.etree\n",
    "\n",
    "parser = lxml.etree.XMLParser()\n",
    "\n",
    "doc = lxml.etree.parse('books.xml', parser)\n",
    "\n",
    "root = doc.getroot()\n",
    "\n",
    "nodes = root.xpath('book')\n",
    "\n",
    "re = nodes[0].itersiblings(preceding=False)\n",
    "print(type(re), list(re))\n"
   ]
  },
  {
   "cell_type": "markdown",
   "metadata": {},
   "source": [
    "### CSS选择器查找\n",
    "\n",
    "- 可以通过如下函数使用选择器：\n",
    "    - `cssselect(self, expr, *, translator)`\n",
    "    - 参数：translator用来把css翻译成xpath，\n",
    "    - 返回元素列表。\n",
    "    \n",
    "- 选择器有两种使用方式：\n",
    "    - 使用上面cssselect函数\n",
    "    - 使用CSSSelector类\n"
   ]
  },
  {
   "cell_type": "code",
   "execution_count": 39,
   "metadata": {},
   "outputs": [
    {
     "name": "stdout",
     "output_type": "stream",
     "text": [
      "<class 'list'> [<Element book at 0x108071c48>, <Element book at 0x108071c88>]\n"
     ]
    }
   ],
   "source": [
    "import lxml.etree\n",
    "import lxml.cssselect\n",
    "\n",
    "parser = lxml.etree.XMLParser()\n",
    "\n",
    "doc = lxml.etree.parse('books.xml', parser)\n",
    "\n",
    "root = doc.getroot()\n",
    "\n",
    "# 使用CSSSelector类（效率高点）\n",
    "selector = lxml.cssselect.CSSSelector('books > book')\n",
    "print(selector.path)\n",
    "re = selector(root)\n",
    "print(type(re), re)\n",
    "\n",
    "# 使用函数\n",
    "re = root.cssselect('books > book', translator='html')\n",
    "print(type(re), re)"
   ]
  },
  {
   "cell_type": "markdown",
   "metadata": {},
   "source": [
    "# 创建并保存xml文件\n",
    "\n",
    "- 使用xmlfle类与Element类\n",
    "    - xmlfile负责写入数据\n",
    "    - Element负责构建节点，节点属性与节点间关系。"
   ]
  },
  {
   "cell_type": "code",
   "execution_count": 40,
   "metadata": {},
   "outputs": [
    {
     "name": "stdout",
     "output_type": "stream",
     "text": [
      "['__class__', '__delattr__', '__dir__', '__doc__', '__eq__', '__format__', '__ge__', '__getattribute__', '__gt__', '__hash__', '__init__', '__init_subclass__', '__le__', '__lt__', '__ne__', '__new__', '__pyx_vtable__', '__reduce__', '__reduce_ex__', '__repr__', '__setattr__', '__sizeof__', '__str__', '__subclasshook__', 'element', 'flush', 'method', 'write', 'write_declaration', 'write_doctype']\n"
     ]
    }
   ],
   "source": [
    "import lxml.etree\n",
    "\n",
    "with lxml.etree.xmlfile(\"exam.xml\", encoding='utf-8') as xf:\n",
    "    print(dir(xf))  # 动态添加的\n",
    "    xf.write_declaration(standalone=True)\n",
    "    xf.write_doctype('<!DOCTYPE root SYSTEM \"some.dtd\">')\n",
    "\n",
    "    with xf.element('books'):\n",
    "        ele_book = lxml.etree.Element('book', {'no': '0001', 'name': '好书'})\n",
    "        ele_title = lxml.etree.Element('title')\n",
    "        ele_title.text = '好书'\n",
    "        ele_book.append(ele_title)\n",
    "        xf.write(ele_book)\n",
    "\n",
    "    xf.flush()\n"
   ]
  }
 ],
 "metadata": {
  "kernelspec": {
   "display_name": "Python 3",
   "language": "python",
   "name": "python3"
  },
  "language_info": {
   "codemirror_mode": {
    "name": "ipython",
    "version": 3
   },
   "file_extension": ".py",
   "mimetype": "text/x-python",
   "name": "python",
   "nbconvert_exporter": "python",
   "pygments_lexer": "ipython3",
   "version": "3.6.6"
  },
  "toc": {
   "base_numbering": 1,
   "nav_menu": {},
   "number_sections": true,
   "sideBar": true,
   "skip_h1_title": false,
   "title_cell": "Table of Contents",
   "title_sidebar": "Contents",
   "toc_cell": false,
   "toc_position": {},
   "toc_section_display": true,
   "toc_window_display": true
  }
 },
 "nbformat": 4,
 "nbformat_minor": 2
}
