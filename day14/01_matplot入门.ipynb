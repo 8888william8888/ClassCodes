{
 "cells": [
  {
   "cell_type": "markdown",
   "metadata": {},
   "source": [
    "# matplotlib编程模式\n",
    "\n",
    "## matplotlib的可视化结构\n",
    "```\n",
    "Figure的对象与构造\n",
    "    FigureManager\n",
    "        |-Figure\n",
    "            |-Axes\n",
    "                |-Artist\n",
    "                    |-Line2D\n",
    "                    |-Patch\n",
    "                    |-Legend\n",
    "                    |-Text\n",
    "                    |-_BaseImage\n",
    "                    |-Table\n",
    "                    |-OffsetBox\n",
    "                    |-AnnotationBbox\n",
    "                    |-Collection\n",
    "                    |-QuiverKey\n",
    "```\n",
    "\n",
    "\n"
   ]
  },
  {
   "cell_type": "markdown",
   "metadata": {},
   "source": [
    "- 说明：\n",
    "    - 一般matplotlib使用FigureManager管理过个Figure（图表），这个对象我们一般不直接使用；\n",
    "        - 直接调用全局函数可以\n",
    "    - 每个Figure由一个或者多个坐标系Axes构成；\n",
    "        - 每个坐标系由两个两个坐标轴构成\n",
    "        - 坐标轴上面包含坐标刻度等\n",
    "    - 在坐标系中提供绘制，每个被绘制的对象为Artist\n",
    "        - Artist分成很多类型，形成丰富的图表元素。\n",
    "- 例子\n",
    "    - 注意：如果想在IPYTHON中直接显示图像，需要使用魔法指令\n",
    "        - `% matplotlib inline`"
   ]
  },
  {
   "cell_type": "code",
   "execution_count": 2,
   "metadata": {},
   "outputs": [
    {
     "data": {
      "image/png": "[encoded data removed]",
      "text/plain": [
       "<Figure size 432x288 with 1 Axes>"
      ]
     },
     "metadata": {
      "needs_background": "light"
     },
     "output_type": "display_data"
    }
   ],
   "source": [
    "% matplotlib inline\n",
    "# coding=utf-8\n",
    "import matplotlib.pyplot as plt\n",
    "# --------------------------\n",
    "# Figure:Figure不建议使用构造器构造，而是使用pyplot提供的函数构造\n",
    "figure = plt.figure('窗体标题')\n",
    "\n",
    "# --------------------------\n",
    "# 坐标轴\n",
    "ax = plt.Axes(\n",
    "    figure,    # 坐标轴所在图形\n",
    "    [0, 0, 1, 1])  # 坐标的区域\n",
    "\n",
    "# --------------------------\n",
    "# 图形\n",
    "line = plt.Line2D(\n",
    "    [0, 0.25, 0.5, 0.75, 1],     # 线条的所有点的X坐标\n",
    "    [0, 1, 0, 1, 0])     # 线条的所有点的Y坐标\n",
    "\n",
    "# --------------------------\n",
    "# Figure，Axes，Artist的容器关系\n",
    "ax.add_artist(line)\n",
    "figure.add_axes(ax)\n",
    "\n",
    "# --------------------------\n",
    "# 显示图形\n",
    "figure.show(warn=False)\n",
    "# 显式窗体\n",
    "plt.show()\n"
   ]
  },
  {
   "cell_type": "markdown",
   "metadata": {},
   "source": [
    "## Axes提供直接绘制功能"
   ]
  },
  {
   "cell_type": "code",
   "execution_count": 6,
   "metadata": {},
   "outputs": [
    {
     "data": {
      "image/png": "[encoded data removed]",
      "text/plain": [
       "<Figure size 432x288 with 1 Axes>"
      ]
     },
     "metadata": {
      "needs_background": "light"
     },
     "output_type": "display_data"
    }
   ],
   "source": [
    "% matplotlib inline\n",
    "# coding=utf-8\n",
    "import matplotlib.pyplot as plt\n",
    "# --------------------------\n",
    "# Figure:Figure不建议使用构造器构造，而是使用pyplot提供的函数构造\n",
    "figure = plt.figure('窗体标题')\n",
    "\n",
    "# --------------------------\n",
    "# 坐标轴\n",
    "ax = plt.Axes(\n",
    "    figure,    # 坐标轴所在图形\n",
    "    [0, 0, 1, 1])  # 坐标的区域\n",
    "\n",
    "# --------------------------\n",
    "# 直接使用Axes提供的绘制函数\n",
    "ax.scatter(x=[0.1, 0.25, 0.5, 0.75], y=[0.1, 0.6, 0.5, 0.25], color='r', marker='.')\n",
    "\n",
    "figure.add_axes(ax)\n",
    "\n",
    "# --------------------------\n",
    "# 显示图形\n",
    "figure.show(warn=False)\n",
    "# 显式窗体\n",
    "plt.show()\n",
    "\n"
   ]
  },
  {
   "cell_type": "markdown",
   "metadata": {},
   "source": [
    "## 绘制散点图"
   ]
  },
  {
   "cell_type": "code",
   "execution_count": 7,
   "metadata": {},
   "outputs": [
    {
     "data": {
      "image/png": "[encoded data removed]",
      "text/plain": [
       "<Figure size 432x288 with 1 Axes>"
      ]
     },
     "metadata": {
      "needs_background": "light"
     },
     "output_type": "display_data"
    }
   ],
   "source": [
    "% matplotlib inline\n",
    "import numpy as np\n",
    "import matplotlib.pyplot as plt\n",
    "from sklearn import datasets\n",
    "\n",
    "\n",
    "data,target=datasets.load_iris(return_X_y=True)\n",
    "\n",
    "figure = plt.figure('机器学习可视化',figsize=(6,4))\n",
    "ax = figure.add_axes([0.1, 0.1, 0.8, 0.8], label='鸢尾花数据集')\n",
    "\n",
    "# 切换特征维度观察数据的线性可分性\n",
    "ax.scatter(x=data[0:50:,3], y=data[0:50,1],color='r',label='A类',marker='.')\n",
    "ax.scatter(x=data[50:100,3], y=data[50:100,1],color='g',label='B类',marker='x' )\n",
    "ax.scatter(x=data[100:150,3], y=data[100:150,1],color='b',label='C类',marker='v' )\n",
    "ax.legend()  # 显示摘要\n",
    "plt.show()"
   ]
  },
  {
   "cell_type": "markdown",
   "metadata": {},
   "source": [
    "# Figure的使用\n"
   ]
  },
  {
   "cell_type": "markdown",
   "metadata": {},
   "source": [
    "## 构造Figure对象\n",
    "\n",
    "1. 构造器定义\n",
    "\n",
    "```python\n",
    "       class matplotlib.figure.Figure(\n",
    "           figsize=None, \n",
    "           dpi=None, \n",
    "           facecolor=None, \n",
    "           edgecolor=None, \n",
    "           linewidth=0.0, \n",
    "           frameon=None, \n",
    "           subplotpars=None, \n",
    "           tight_layout=None, \n",
    "           constrained_layout=None)\n",
    "```\n",
    "2. 构造器参数说明\n",
    "\n",
    "    - |-figsize : 2元小数元组: rcParams[\"figure.figsize\"]\n",
    "        - |-英寸为单位的元组表示(width, height).\n",
    "    - |-dpi : float: rcParams[\"figure.dpi\"]\n",
    "        - |-每英寸的点数（像素）\n",
    "    - |-facecolor : 字符与4元元组: rcParams[\"figure.facecolor\"]\n",
    "        - |-设置的是Figure的patch(小区域块)的填充颜色facecolor.\n",
    "    - |-edgecolor : 字符与4元元组: rcParams[\"figure.edgecolor\"]\n",
    "        - |-设置的是Figure的patch(小区域块)的边界颜色edgecolor.\n",
    "    - |-linewidth : float\n",
    "        - |-边框的线条宽度.\n",
    "    - |-frameon : bool: rcParams[\"figure.frameon\"]\n",
    "        - |-True就绘制边框.\n",
    "    - |-subplotpars : SubplotParams：rcParams[\"figure.subplot.*\"]\n",
    "        - |-Subplot子图的参数.\n",
    "    - |-tight_layout : bool或者字典: rcParams[\"figure.autolayout\"]\n",
    "        - |-If False 就使用subplotpars. \n",
    "        - |-If True 使用缺省的padding实现tight_layout. \n",
    "        - |-字典：使用key参数：pad, w_pad, h_pad, and rect实现tight_layout.\n",
    "    - |-constrained_layout : bool：rcParams[\"figure.constrained_layout.use\"]\n",
    "        - |-True：实现 constrained layout. 与tight_layout类似,但比tight_layout灵活.\n",
    "        - |-该参数对subplot()与 subplot2grid()无效."
   ]
  },
  {
   "cell_type": "markdown",
   "metadata": {},
   "source": [
    "## Figure对象的属性与数据访问"
   ]
  },
  {
   "cell_type": "markdown",
   "metadata": {},
   "source": [
    "### 属性\n",
    "\n",
    "- 上面的参数只有三个提供属性模式访问\n",
    "    - |-number\n",
    "    - |-dpi\n",
    "    - |-frameon"
   ]
  },
  {
   "cell_type": "markdown",
   "metadata": {},
   "source": [
    "### 数据访问\n",
    "\n",
    "- Figure的属性都提供set/get函数设置与获取\n",
    "    - set_xxxx(value)\n",
    "    - value=get_xxxx()\n",
    "    - |-get_dpi()\n",
    "        - |-set_dpi(val)\n",
    "    - |-get_edgecolor()\n",
    "        - |-set_edgecolor(color)\n",
    "    - |-get_facecolor()\n",
    "        - |-set_facecolor(color)\n",
    "    - |-get_figheight()\n",
    "        - |-set_figheight(val, forward=True)  \n",
    "            - |-#forward用来控制：当设置尺寸过大，窗体是否自动调整大小。\n",
    "    - |-get_figwidth()\n",
    "        - |-set_figwidth(val, forward=True)\n",
    "            - |-#forward用来控制：当设置尺寸过大，窗体是否自动调整大小。\n",
    "    - |-get_size_inches()\n",
    "        - |-set_size_inches(w, h=None, forward=True)\n",
    "            - |-#forward用来控制：当设置尺寸过大，窗体是否自动调整大小。\n",
    "    - |-get_frameon()\n",
    "        - |-set_frameon(b)\n",
    "    - |-get_tight_layout()\n",
    "        - |-set_tight_layout(tight)\n",
    "    - |-get_constrained_layout()\n",
    "        - |-set_constrained_layout(constrained)\n",
    "    - |-get_constrained_layout_pads(relative=False）\n",
    "        -  |-set_constrained_layout_pads(\\*\\*kwargs)"
   ]
  },
  {
   "cell_type": "markdown",
   "metadata": {},
   "source": [
    "### Figure参数的rcParams设置：\n",
    "\n",
    "- Figure的参数还可以通过`matplotlib.rcParams['xxxx']`来设置\n",
    "\n"
   ]
  },
  {
   "cell_type": "markdown",
   "metadata": {},
   "source": [
    "## 使用figure函数创建Figure对象\n",
    "\n",
    "1. 函数定义如下\n",
    "\n",
    "```python\n",
    "    matplotlib.pyplot.figure(\n",
    "        num=None, \n",
    "        figsize=None, \n",
    "        dpi=None, \n",
    "        facecolor=None, \n",
    "        edgecolor=None, \n",
    "        frameon=True, \n",
    "        FigureClass=<class 'matplotlib.figure.Figure'>, \n",
    "        clear=False, **kwargs)\n",
    "```\n",
    "\n",
    "2. 函数的参数说明：\n",
    "    - |- num : 整数或者字符串: None\n",
    "        - |-Figure的内部标示ID，如果是字符串也会作为窗体标题\n",
    "        - |-如果没有设置num，或者是整数，figure的ID会自动按序生成。\n",
    "    - |- figsize : 2元小数元组: `rcParams[\"figure.figsize\"] = [6.4, 4.8]`\n",
    "        - |-窗体大小(英寸为单位)\n",
    "    - |- dpi : 整数类型: `rcParams[\"figure.dpi\"] = 100`\n",
    "        - |-分辨率，每英寸的像素个数\n",
    "    - |- facecolor :字符串或者4元元组: `rcParams[\"figure.facecolor\"] = 'w'`\n",
    "        - |-Figure的主体颜色\n",
    "    - |- edgecolor :字符串或者4元元组: `rcParams[\"figure.edgecolor\"] = 'w'`\n",
    "        - |-Figure的边界颜色\n",
    "    - |- frameon : `bool:True`\n",
    "        - |-是否绘制Frame边框\n",
    "   -  |- FigureClass : `Figure子类：Figure`\n",
    "        - |-一般指定figure函数创建Figure对象的类（必须是Figure的子类），默认是Figure\n",
    "    - |- clear : `bool: False`\n",
    "        - |-如果num指定的Figure存在，则清除。\n",
    "        "
   ]
  },
  {
   "cell_type": "markdown",
   "metadata": {},
   "source": [
    "## 把Figure保存成图像\n",
    "\n",
    "- 可以使用savefig把Figure保存成图片\n",
    "    - |- `savefig(fname, *, frameon=None, transparent=None, **kwargs)`"
   ]
  },
  {
   "cell_type": "markdown",
   "metadata": {},
   "source": [
    "## Figure与FigureManager\n",
    "\n",
    "- 注意：\n",
    "    - 除了在构造器外，Figure没有提供title，linewidth的设置方式\n",
    "    - 阅读源代码知道，对窗体标题的处理有下面代码完成\n",
    "        - |-figManager.set_window_title(figLabel)\n",
    "        - |-figManager.canvas.figure.set_label(figLabel)  #这个是Figure的标签,来自Artist类\n",
    "    - 获取figmanager可以使用pyplot函数实现\n",
    "        - FigureManager=plt.get_current_fig_manager()\n",
    "            - |-返回对象类型：NSWindow\n",
    "        - 如果不存在Figure，会自动返回，plt.figure一般会创建一个新的。所以该函数最好在Figure创建后调用\n"
   ]
  },
  {
   "cell_type": "code",
   "execution_count": 8,
   "metadata": {},
   "outputs": [
    {
     "data": {
      "image/png": "[encoded data removed]",
      "text/plain": [
       "<Figure size 480x480 with 1 Axes>"
      ]
     },
     "metadata": {},
     "output_type": "display_data"
    }
   ],
   "source": [
    "% matplotlib inline\n",
    "# coding=utf-8\n",
    "import matplotlib.pyplot as plt\n",
    "\n",
    "\n",
    "# ---------------------------------------------\n",
    "# Figure\n",
    "figure = plt.figure(\n",
    "    num='Figure使用与管理',     # 窗体ID，字符串也是窗体标题\n",
    "    figsize=(6.4, 4.8),  # 窗体大小（英寸）\n",
    "    dpi=150,    # 分辨率\n",
    "    facecolor=(1, 0, 0, 1),   # 填充色\n",
    "    edgecolor='b',  # 边界色\n",
    "    frameon=True,   # 是否绘制边框\n",
    "    linewidth=5     # 来自Figure构造器的绘制变量的线条宽度\n",
    ")\n",
    "FigureManager = plt.get_current_fig_manager()\n",
    "FigureManager.set_window_title('换一个窗体标题')\n",
    "# 当坐标轴填满Figure,上面的某些属性看不见效果，比如facecolor与edgecolor，linewidth\n",
    "# 属性方式访问\n",
    "figure.dpi = 50\n",
    "figure.frameon = False\n",
    "figure.number = 2\n",
    "# set/get方式访问\n",
    "figure.set_dpi(60)\n",
    "figure.set_figheight(8)\n",
    "figure.set_size_inches(8, 8)\n",
    "# ---------------------------------------------\n",
    "# 坐标轴\n",
    "ax = plt.Axes(\n",
    "    figure,    # 坐标轴所在图形\n",
    "    [0.1, 0.1, 0.8, 0.8])  # 坐标的区域\n",
    "# 图形\n",
    "line = plt.Line2D(\n",
    "    [0.25, 0.5, 0.75],     # 线条的所有点的X坐标\n",
    "    [0.5, 0.5, 0.5])     # 线条的所有点的Y坐标\n",
    "\n",
    "# Figure，Axes，Artist的容器关系\n",
    "ax.add_artist(line)\n",
    "figure.add_axes(ax)\n",
    "# 显示图形\n",
    "figure.show(warn=False)\n",
    "# 显式窗体\n",
    "plt.show()\n"
   ]
  },
  {
   "cell_type": "markdown",
   "metadata": {},
   "source": [
    "# Axes坐标系\n",
    "\n",
    "- Axes坐标轴的使用与管理 ---- 之理解型add_axes\n",
    "    - 坐标轴通常包含Axis, Tick, Line2D, Text, Polygon等对象绘制完成,\n",
    "    - 坐标轴的创建提供了两种方式：\n",
    "        - |-`Figure.add_axes(*args, **kwargs)  [理解型]`\n",
    "        - |-`add_subplot(*args, **kwargs)        [快捷性]`"
   ]
  },
  {
   "cell_type": "markdown",
   "metadata": {},
   "source": [
    "## add_axes创建坐标系\n",
    "\n",
    "- add_axes函数使用的两种方式：\n",
    "    - |-`add_axes(rect, projection=None, polar=False, **kwargs)`\n",
    "        - |-`[add_axes函数利用参数构造Axes对象]`\n",
    "    - |-add_axes(ax) \n",
    "        - |-`[调用者自己构造Axes对象]`\n",
    "\n",
    "- 上面两种方式本质都一样，因为参数都是一样的。"
   ]
  },
  {
   "cell_type": "markdown",
   "metadata": {},
   "source": [
    "### 创建Axes对象\n",
    "\n",
    "- Axes类型定义\n",
    "\n",
    "```python\n",
    "    .class matplotlib.axes.Axes(fig, rect, facecolor=None, frameon=True, sharex=None, sharey=None, label='', xscale=None, yscale=None, **kwargs)\n",
    "```\n",
    "\n",
    "- 参数说明：\n",
    "    - |-fig : Figure\n",
    "        - |-坐标轴所属的Figure.\n",
    "    - |-rect : [left, bottom, width, height]\n",
    "        - |-坐标轴在Figure中的位置与大小\n",
    "    - |-facecolor: 字符串与四元元组：None\n",
    "        - |-周坐标轴填充色\n",
    "    - |-frameon：bool：True\n",
    "        - |-是否绘制坐标轴边框\n",
    "    - |-sharex：Axes：None\n",
    "        - |-使用sharex指定的坐标轴的属性\n",
    "    - |-sharey：Axes：None\n",
    "        - |-使用sharey指定的坐标轴的属性\n",
    "    - |-label：：''\n",
    "        - |-坐标轴的标签\n",
    "    - |-xscale：字符串：None\n",
    "        - |-x坐标比例尺的计算方式\n",
    "        - |-取值：{\"linear\", \"log\", \"symlog\", \"logit\", ...}\n",
    "    - |-yscale：字符串：None\n",
    "        - |-y坐标比例尺的计算方式\n",
    "        - |-取值：{\"linear\", \"log\", \"symlog\", \"logit\", ...}\n",
    "    \n",
    "- 还有其他属性可以在这儿使用。请参考官方文档。"
   ]
  },
  {
   "cell_type": "markdown",
   "metadata": {},
   "source": [
    "### 使用add_axes直接创建\n",
    "\n",
    "- 函数定义：\n",
    "```python\n",
    "\n",
    "add_axes(rect, projection=None, polar=False, **kwargs)\n",
    "\n",
    "```\n",
    "\n",
    "- 参数说明：\n",
    "    - |-rect : 四元元组或者列表\n",
    "        - |-坐标轴位置与大小\n",
    "    - |-projection : {None, 'aitoff', 'hammer', 'lambert', 'mollweide', 'polar', 'rectilinear', str},\n",
    "        - |-坐标轴的类型\n",
    "    - |-polar : boolean\n",
    "        - |-使用极坐标，取值True等价于projection='polar'.\n",
    "    - |-sharex, sharey : Axes\n",
    "        - |-使用sharey指定的坐标轴的属性\n",
    "    - |-label : str\n",
    "        - |-坐标轴标签\n",
    "    \n",
    "    还有其他属性可以在这儿使用。请参考官方文档。"
   ]
  },
  {
   "cell_type": "markdown",
   "metadata": {},
   "source": [
    "### Axes使用例子"
   ]
  },
  {
   "cell_type": "code",
   "execution_count": 10,
   "metadata": {},
   "outputs": [
    {
     "data": {
      "image/png": "[encoded data removed]",
      "text/plain": [
       "<Figure size 432x288 with 2 Axes>"
      ]
     },
     "metadata": {
      "needs_background": "light"
     },
     "output_type": "display_data"
    }
   ],
   "source": [
    "% matplotlib inline\n",
    "# coding=utf-8\n",
    "import matplotlib.pyplot as plt\n",
    "\n",
    "figure = plt.figure(num='Axes坐标轴的使用与管理')\n",
    "# ---------------------------------------------\n",
    "# 坐标轴\n",
    "ax1 = plt.Axes(\n",
    "    fig=figure,\n",
    "    rect=[0.05, 0.05, 0.9, 0.4],\n",
    "    facecolor=(1, 0, 0, 1),\n",
    "    frameon=True,\n",
    "    label='坐标轴Axes对象',\n",
    "    xscale='linear',\n",
    "    yscale='symlog'\n",
    ")\n",
    "figure.add_axes(ax1)\n",
    "figure.add_axes(\n",
    "    [0.05, 0.55, 0.9, 0.4],  # 位置与大小，必须第一个指定，不能使用形式参数\n",
    "    projection='polar',      # 坐标轴类型\n",
    "    sharex=ax1,              # 共享ax1中的xaxis\n",
    "    # sharey=ax1,            # 共享ax1中的yaxis\n",
    "    label='函数构造的坐标轴Axes',\n",
    "    facecolor=(1, 0, 1, 1),     # 还可以使用其他属性\n",
    "    frameon=True,\n",
    ")\n",
    "# ---------------------------------------------\n",
    "# 图形\n",
    "line = plt.Line2D(\n",
    "    [0.25, 0.5, 0.75],     # 线条的所有点的X坐标\n",
    "    [0.5, 0.5, 0.5])     # 线条的所有点的Y坐标\n",
    "\n",
    "# Figure，Axes，Artist的容器关系\n",
    "ax1.add_artist(line)\n",
    "\n",
    "# 显示图形\n",
    "figure.show(warn=False)\n",
    "\n",
    "# 保存\n",
    "figure.savefig('a.png')\n",
    "# 显式窗体\n",
    "plt.show()\n"
   ]
  },
  {
   "cell_type": "markdown",
   "metadata": {},
   "source": [
    "## add_subplot创建坐标系\n",
    "\n",
    "1. 函数定义：\n",
    "\n",
    "```python\n",
    "    add_subplot(*args, **kwargs)\n",
    "```\n",
    "\n",
    "2. 该函数的所有属性基本上与add_axes一样。可以创建axes，并指定位置，在坐标轴在figure中均匀分配，一共有三种使用方法\n",
    "    - |-`add_subplot(nrows, ncols, index, **kwargs)`\n",
    "        - |-nrows，坐标轴的行数（多个坐标轴）\n",
    "        - |-ncols，坐标轴的列数（多个坐标轴）\n",
    "        - |-index，坐标轴的位置（位置按照自然数计算，行：按照从上到下，列：按照从左到右）\n",
    "        - |- `**kwargs 与add_axes函数中参数一样，可以求助于文档`\n",
    "    - |-`add_subplot(pos, **kwargs)`\n",
    "        - |-与上一种方法一样，只是当nrows，ncols， index不超过1位数的时候，可以合并成pos来表示\n",
    "    - |-`add_subplot(ax)  `   \n",
    "        - |-与add_axes一样  \n",
    "\n",
    "3. 例子代码"
   ]
  },
  {
   "cell_type": "code",
   "execution_count": 11,
   "metadata": {},
   "outputs": [
    {
     "data": {
      "image/png": "[encoded data removed]",
      "text/plain": [
       "<Figure size 360x288 with 3 Axes>"
      ]
     },
     "metadata": {
      "needs_background": "light"
     },
     "output_type": "display_data"
    }
   ],
   "source": [
    "% matplotlib inline\n",
    "# coding=utf-8\n",
    "import matplotlib.pyplot as plt\n",
    "\n",
    "figure = plt.figure('Figure的坐标轴管理', (5, 4))\n",
    "# ------------------------------------------\n",
    "ax1 = figure.add_subplot(221, title='坐标轴1')\n",
    "ax2 = figure.add_subplot(2, 2, 2, title='坐标轴2')\n",
    "ax3 = figure.add_subplot(224, title='坐标轴4', position=[0.55, 0.05, 0.35, 0.3])\n",
    "\n",
    "ax1.set_xbound(lower=0, upper=10)\n",
    "ax1.set_ybound(lower=-1, upper=1)\n",
    "line = plt.Line2D(\n",
    "    xdata=np.linspace(0, 10, 20),\n",
    "    ydata=np.random.uniform(-1, 1, size=20),\n",
    "    label='Line2',\n",
    "    color=(1, 0, 0, 1)\n",
    ")\n",
    "ax1.add_line(line)\n",
    "# 下面代码报错，多个坐标轴，不能公用一个Line2D对象\n",
    "# ax2.add_line(line)\n",
    "# ax3.add_line(line)\n",
    "# ------------------------------------------\n",
    "plt.show()"
   ]
  }
 ],
 "metadata": {
  "kernelspec": {
   "display_name": "Python 3",
   "language": "python",
   "name": "python3"
  },
  "language_info": {
   "codemirror_mode": {
    "name": "ipython",
    "version": 3
   },
   "file_extension": ".py",
   "mimetype": "text/x-python",
   "name": "python",
   "nbconvert_exporter": "python",
   "pygments_lexer": "ipython3",
   "version": "3.6.6"
  },
  "toc": {
   "base_numbering": 1,
   "nav_menu": {},
   "number_sections": true,
   "sideBar": true,
   "skip_h1_title": false,
   "title_cell": "Table of Contents",
   "title_sidebar": "Contents",
   "toc_cell": false,
   "toc_position": {},
   "toc_section_display": true,
   "toc_window_display": true
  }
 },
 "nbformat": 4,
 "nbformat_minor": 2
}
